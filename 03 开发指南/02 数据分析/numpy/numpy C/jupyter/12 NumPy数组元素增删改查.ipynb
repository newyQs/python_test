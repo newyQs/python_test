{
 "cells": [
  {
   "cell_type": "code",
   "execution_count": 10,
   "id": "1cce7ecb",
   "metadata": {},
   "outputs": [
    {
     "name": "stdout",
     "output_type": "stream",
     "text": [
      "[[1 2 3]\n",
      " [4 5 6]]\n",
      "(2, 3)\n"
     ]
    }
   ],
   "source": [
    "import numpy as np\n",
    "\n",
    "# 1. numpy.resize()\n",
    "# numpy.resize() 返回指定形状的新数组。\n",
    "a = np.array([[1, 2, 3], [4, 5, 6]])\n",
    "print(a)\n",
    "# a数组的形状\n",
    "print(a.shape)"
   ]
  },
  {
   "cell_type": "code",
   "execution_count": 11,
   "id": "e853f22d",
   "metadata": {},
   "outputs": [
    {
     "name": "stdout",
     "output_type": "stream",
     "text": [
      "[[1 2]\n",
      " [3 4]\n",
      " [5 6]]\n",
      "(3, 2)\n"
     ]
    }
   ],
   "source": [
    "b = np.resize(a, (3, 2))\n",
    "# b数组\n",
    "print(b)\n",
    "# b数组的形状\n",
    "print(b.shape)"
   ]
  },
  {
   "cell_type": "code",
   "execution_count": 12,
   "id": "eb0c397f",
   "metadata": {},
   "outputs": [
    {
     "name": "stdout",
     "output_type": "stream",
     "text": [
      "[[1 2 3]\n",
      " [4 5 6]\n",
      " [1 2 3]]\n"
     ]
    }
   ],
   "source": [
    "# 修改c数组使其形状大于原始数组\n",
    "c = np.resize(a, (3, 3))\n",
    "print(c)"
   ]
  },
  {
   "cell_type": "code",
   "execution_count": 6,
   "id": "11e0ef3b",
   "metadata": {},
   "outputs": [
    {
     "name": "stdout",
     "output_type": "stream",
     "text": [
      "[[1 2 3]\n",
      " [4 5 6]]\n"
     ]
    }
   ],
   "source": [
    "# 2. numpy.append()\n",
    "a = np.array([[1, 2, 3], [4, 5, 6]])\n",
    "print(a)"
   ]
  },
  {
   "cell_type": "code",
   "execution_count": 7,
   "id": "c0f3d57a",
   "metadata": {},
   "outputs": [
    {
     "name": "stdout",
     "output_type": "stream",
     "text": [
      "[1 2 3 4 5 6 7 8 9]\n"
     ]
    }
   ],
   "source": [
    "# 向数组a添加元素\n",
    "print(np.append(a, [7, 8, 9]))"
   ]
  },
  {
   "cell_type": "code",
   "execution_count": 8,
   "id": "8bf84681",
   "metadata": {},
   "outputs": [
    {
     "name": "stdout",
     "output_type": "stream",
     "text": [
      "[[1 2 3]\n",
      " [4 5 6]\n",
      " [7 8 9]]\n"
     ]
    }
   ],
   "source": [
    "# 沿轴 0 添加元素\n",
    "print(np.append(a, [[7, 8, 9]], axis=0))"
   ]
  },
  {
   "cell_type": "code",
   "execution_count": 9,
   "id": "626a7a71",
   "metadata": {},
   "outputs": [
    {
     "name": "stdout",
     "output_type": "stream",
     "text": [
      "[[1 2 3 5 5 5]\n",
      " [4 5 6 7 8 9]]\n"
     ]
    }
   ],
   "source": [
    "# 沿轴 1 添加元素\n",
    "print(np.append(a, [[5, 5, 5], [7, 8, 9]], axis=1))"
   ]
  },
  {
   "cell_type": "code",
   "execution_count": 16,
   "id": "4c1b8ff8",
   "metadata": {},
   "outputs": [
    {
     "name": "stdout",
     "output_type": "stream",
     "text": [
      "[[1 2]\n",
      " [3 4]\n",
      " [5 6]]\n",
      "[ 1  2  3 11 12  4  5  6]\n"
     ]
    }
   ],
   "source": [
    "# 3. numpy.insert()\n",
    "# 表示沿指定的轴，在给定索引值的前一个位置插入相应的值，如果没有提供轴，则输入数组被展开为一维数组\n",
    "a = np.array([[1, 2], [3, 4], [5, 6]])\n",
    "print(a)\n",
    "# 不提供axis的情况，会将数组展开\n",
    "print(np.insert(a, 3, [11, 12]))"
   ]
  },
  {
   "cell_type": "code",
   "execution_count": 14,
   "id": "f4830052",
   "metadata": {},
   "outputs": [
    {
     "name": "stdout",
     "output_type": "stream",
     "text": [
      "[[ 1  2]\n",
      " [11 11]\n",
      " [ 3  4]\n",
      " [ 5  6]]\n"
     ]
    }
   ],
   "source": [
    "# 沿轴 0 垂直方向\n",
    "print(np.insert(a, 1, [11], axis=0))"
   ]
  },
  {
   "cell_type": "code",
   "execution_count": 15,
   "id": "963b3da6",
   "metadata": {},
   "outputs": [
    {
     "name": "stdout",
     "output_type": "stream",
     "text": [
      "[[ 1 11  2]\n",
      " [ 3 11  4]\n",
      " [ 5 11  6]]\n"
     ]
    }
   ],
   "source": [
    "# 沿轴 1 水平方向\n",
    "print(np.insert(a, 1, 11, axis=1))"
   ]
  },
  {
   "cell_type": "code",
   "execution_count": 17,
   "id": "e674c52c",
   "metadata": {},
   "outputs": [
    {
     "name": "stdout",
     "output_type": "stream",
     "text": [
      "[[ 0  1  2  3]\n",
      " [ 4  5  6  7]\n",
      " [ 8  9 10 11]]\n",
      "[ 0  1  2  3  4  6  7  8  9 10 11]\n"
     ]
    }
   ],
   "source": [
    "# 4. numpy.delete()\n",
    "a = np.arange(12).reshape(3, 4)\n",
    "# a数组\n",
    "print(a)\n",
    "# 不提供axis参数情况\n",
    "print(np.delete(a, 5))"
   ]
  },
  {
   "cell_type": "code",
   "execution_count": 18,
   "id": "f2564d55",
   "metadata": {},
   "outputs": [
    {
     "name": "stdout",
     "output_type": "stream",
     "text": [
      "[[ 0  2  3]\n",
      " [ 4  6  7]\n",
      " [ 8 10 11]]\n"
     ]
    }
   ],
   "source": [
    "# 删除第二列\n",
    "print(np.delete(a, 1, axis=1))"
   ]
  },
  {
   "cell_type": "code",
   "execution_count": 19,
   "id": "7eed4b65",
   "metadata": {},
   "outputs": [
    {
     "name": "stdout",
     "output_type": "stream",
     "text": [
      "[ 2  4  6  8 10]\n"
     ]
    }
   ],
   "source": [
    "# 删除经切片后的数组\n",
    "a = np.array([1, 2, 3, 4, 5, 6, 7, 8, 9, 10])\n",
    "print(np.delete(a, np.s_[::2]))"
   ]
  },
  {
   "cell_type": "code",
   "execution_count": 20,
   "id": "795d5540",
   "metadata": {},
   "outputs": [
    {
     "name": "stdout",
     "output_type": "stream",
     "text": [
      "[[0 1 2]\n",
      " [3 4 5]]\n"
     ]
    }
   ],
   "source": [
    "# 5. numpy.argwhere()\n",
    "x = np.arange(6).reshape(2, 3)\n",
    "print(x)"
   ]
  },
  {
   "cell_type": "code",
   "execution_count": 21,
   "id": "d0362581",
   "metadata": {},
   "outputs": [
    {
     "name": "stdout",
     "output_type": "stream",
     "text": [
      "[[0 2]\n",
      " [1 0]\n",
      " [1 1]\n",
      " [1 2]]\n"
     ]
    }
   ],
   "source": [
    "# 返回所有大于1的元素索引\n",
    "y = np.argwhere(x > 1)\n",
    "print(y)"
   ]
  },
  {
   "cell_type": "code",
   "execution_count": 22,
   "id": "e3181dea",
   "metadata": {},
   "outputs": [
    {
     "name": "stdout",
     "output_type": "stream",
     "text": [
      "[5 2 6 2 7 5 6 8 2 9]\n"
     ]
    }
   ],
   "source": [
    "# 6. numpy.unique()\n",
    "a = np.array([5, 2, 6, 2, 7, 5, 6, 8, 2, 9])\n",
    "print(a)"
   ]
  },
  {
   "cell_type": "code",
   "execution_count": 23,
   "id": "89b85e88",
   "metadata": {},
   "outputs": [
    {
     "name": "stdout",
     "output_type": "stream",
     "text": [
      "[2 5 6 7 8 9]\n"
     ]
    }
   ],
   "source": [
    "# 对a数组的去重\n",
    "uq = np.unique(a)\n",
    "print(uq)"
   ]
  },
  {
   "cell_type": "code",
   "execution_count": 26,
   "id": "bd679474",
   "metadata": {},
   "outputs": [
    {
     "name": "stdout",
     "output_type": "stream",
     "text": [
      "[2 5 6 7 8 9]\n",
      "[1 0 2 4 7 9]\n"
     ]
    }
   ],
   "source": [
    "# 数组去重后的索引数组\n",
    "u, indices = np.unique(a, return_index=True)\n",
    "# 数组去重\n",
    "print(u)\n",
    "# 打印去重后数组的索引\n",
    "print(indices)"
   ]
  },
  {
   "cell_type": "code",
   "execution_count": 27,
   "id": "0ddc971e",
   "metadata": {},
   "outputs": [
    {
     "name": "stdout",
     "output_type": "stream",
     "text": [
      "[2 5 6 7 8 9]\n",
      "[1 0 2 0 3 1 2 4 0 5]\n"
     ]
    }
   ],
   "source": [
    "# 去重数组的下标：\n",
    "ui, indices = np.unique(a, return_inverse=True)\n",
    "print(ui)\n",
    "# 打印下标\n",
    "print(indices)"
   ]
  },
  {
   "cell_type": "code",
   "execution_count": 28,
   "id": "7397cda2",
   "metadata": {},
   "outputs": [
    {
     "name": "stdout",
     "output_type": "stream",
     "text": [
      "[2 5 6 7 8 9]\n"
     ]
    }
   ],
   "source": [
    "# 返回去重元素的重复数量\n",
    "uc, indices = np.unique(a, return_counts=True)\n",
    "print(uc)"
   ]
  },
  {
   "cell_type": "code",
   "execution_count": 29,
   "id": "42d2441e",
   "metadata": {},
   "outputs": [
    {
     "name": "stdout",
     "output_type": "stream",
     "text": [
      "[3 2 2 1 1 1]\n"
     ]
    }
   ],
   "source": [
    "# 元素出现次数：\n",
    "print(indices)"
   ]
  },
  {
   "cell_type": "code",
   "execution_count": null,
   "id": "2e951d3a",
   "metadata": {},
   "outputs": [],
   "source": []
  }
 ],
 "metadata": {
  "kernelspec": {
   "display_name": "Python 3",
   "language": "python",
   "name": "python3"
  },
  "language_info": {
   "codemirror_mode": {
    "name": "ipython",
    "version": 3
   },
   "file_extension": ".py",
   "mimetype": "text/x-python",
   "name": "python",
   "nbconvert_exporter": "python",
   "pygments_lexer": "ipython3",
   "version": "3.8.8"
  }
 },
 "nbformat": 4,
 "nbformat_minor": 5
}
