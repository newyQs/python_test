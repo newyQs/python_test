{
 "cells": [
  {
   "cell_type": "code",
   "execution_count": 1,
   "id": "fab27b09",
   "metadata": {},
   "outputs": [
    {
     "name": "stdout",
     "output_type": "stream",
     "text": [
      "[0.00000000e+00 5.00000000e-01 8.66025404e-01 1.00000000e+00\n",
      " 8.66025404e-01 5.00000000e-01 1.22464680e-16]\n",
      "[ 1.00000000e+00  8.66025404e-01  5.00000000e-01  6.12323400e-17\n",
      " -5.00000000e-01 -8.66025404e-01 -1.00000000e+00]\n",
      "[ 0.00000000e+00  5.77350269e-01  1.73205081e+00  1.63312394e+16\n",
      " -1.73205081e+00 -5.77350269e-01 -1.22464680e-16]\n"
     ]
    }
   ],
   "source": [
    "import numpy as np\n",
    "\n",
    "# 1. 三角函数\n",
    "\n",
    "arr = np.array([0, 30, 60, 90, 120, 150, 180])\n",
    "# 计算arr数组中给定角度的三角函数值\n",
    "# 通过乘以np.pi/180将其转换为弧度\n",
    "print(np.sin(arr * np.pi / 180))\n",
    "print(np.cos(arr * np.pi / 180))\n",
    "print(np.tan(arr * np.pi / 180))"
   ]
  },
  {
   "cell_type": "code",
   "execution_count": 5,
   "id": "48d7aefe",
   "metadata": {},
   "outputs": [
    {
     "name": "stdout",
     "output_type": "stream",
     "text": [
      "[0.        0.5       0.8660254 1.       ]\n",
      "[0.         0.52359878 1.04719755 1.57079633]\n",
      "[ 0. 30. 60. 90.]\n",
      "[1.00000000e+00 8.66025404e-01 5.00000000e-01 6.12323400e-17]\n",
      "[0.         0.52359878 1.04719755 1.57079633]\n",
      "[ 0. 30. 60. 90.]\n",
      "[0.00000000e+00 5.77350269e-01 1.73205081e+00 1.63312394e+16]\n",
      "[0.         0.52359878 1.04719755 1.57079633]\n",
      "[ 0. 30. 60. 90.]\n"
     ]
    }
   ],
   "source": [
    "arr = np.array([0, 30, 60, 90])\n",
    "# 正弦值数组\n",
    "sinval = np.sin(arr * np.pi / 180)\n",
    "print(sinval)\n",
    "# 计算角度反正弦，返回值以弧度为单位\n",
    "cosec = np.arcsin(sinval)\n",
    "print(cosec)\n",
    "# 通过degrees函数转化为角度进行验证\n",
    "print(np.degrees(cosec))\n",
    "# 余弦值数组\n",
    "cosval = np.cos(arr * np.pi / 180)\n",
    "print(cosval)\n",
    "# 计算反余弦值，以弧度为单位\n",
    "sec = np.arccos(cosval)\n",
    "print(sec)\n",
    "# 通过degrees函数转化为角度进行验证\n",
    "print(np.degrees(sec))\n",
    "# 下面是tan()正切函数\n",
    "tanval = np.tan(arr * np.pi / 180)\n",
    "print(tanval)\n",
    "cot = np.arctan(tanval)\n",
    "print(cot)\n",
    "print(np.degrees(cot))"
   ]
  },
  {
   "cell_type": "code",
   "execution_count": 4,
   "id": "86f9347b",
   "metadata": {},
   "outputs": [
    {
     "name": "stdout",
     "output_type": "stream",
     "text": [
      "[ 12.202   90.2312 123.02    23.202 ]\n",
      "数组值四舍五入到小数点后两位 [ 12.2   90.23 123.02  23.2 ]\n",
      "数组值四舍五入到小数点后-1位 [ 10.  90. 120.  20.]\n"
     ]
    }
   ],
   "source": [
    "# 2. 舍入函数\n",
    "\n",
    "# 2.1 numpy.around()\n",
    "# 该函数返回一个十进制值数，并将数值四舍五入到指定的小数位上\n",
    "arr = np.array([12.202, 90.23120, 123.020, 23.202])\n",
    "print(arr)\n",
    "print(\"数组值四舍五入到小数点后两位\", np.around(arr, 2))\n",
    "print(\"数组值四舍五入到小数点后-1位\", np.around(arr, -1))"
   ]
  },
  {
   "cell_type": "code",
   "execution_count": 3,
   "id": "9b8b79b6",
   "metadata": {},
   "outputs": [
    {
     "name": "stdout",
     "output_type": "stream",
     "text": [
      "[-2.  1. -1.  0. 18.]\n"
     ]
    }
   ],
   "source": [
    "# 2.2 numpy.floor()\n",
    "a = np.array([-1.8, 1.1, -0.4, 0.9, 18])\n",
    "# 对数组a向下取整\n",
    "print(np.floor(a))"
   ]
  },
  {
   "cell_type": "code",
   "execution_count": 2,
   "id": "39d7a9a7",
   "metadata": {},
   "outputs": [
    {
     "name": "stdout",
     "output_type": "stream",
     "text": [
      "[-1.  2. -0.  1. 18.]\n"
     ]
    }
   ],
   "source": [
    "# 2.3 numpy.ceil()\n",
    "a = np.array([-1.8, 1.1, -0.4, 0.9, 18])\n",
    "# 对数组a向上取整\n",
    "print(np.ceil(a))"
   ]
  },
  {
   "cell_type": "code",
   "execution_count": null,
   "id": "9e7cb87e",
   "metadata": {},
   "outputs": [],
   "source": []
  }
 ],
 "metadata": {
  "kernelspec": {
   "display_name": "Python 3",
   "language": "python",
   "name": "python3"
  },
  "language_info": {
   "codemirror_mode": {
    "name": "ipython",
    "version": 3
   },
   "file_extension": ".py",
   "mimetype": "text/x-python",
   "name": "python",
   "nbconvert_exporter": "python",
   "pygments_lexer": "ipython3",
   "version": "3.8.8"
  }
 },
 "nbformat": 4,
 "nbformat_minor": 5
}
