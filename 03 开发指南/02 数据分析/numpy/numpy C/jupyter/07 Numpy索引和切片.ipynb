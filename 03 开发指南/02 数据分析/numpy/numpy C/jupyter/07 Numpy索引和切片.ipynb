{
 "cells": [
  {
   "cell_type": "code",
   "execution_count": 18,
   "id": "26282bb7",
   "metadata": {},
   "outputs": [
    {
     "name": "stdout",
     "output_type": "stream",
     "text": [
      "[0 1 2 3 4 5 6 7 8 9]\n",
      "[2 5 8]\n"
     ]
    }
   ],
   "source": [
    "import numpy as np\n",
    "\n",
    "# 1. 基本切片\n",
    "a = np.arange(10)\n",
    "print(a)\n",
    "# 生成切片对象\n",
    "s = slice(2, 9, 3)  # 从索引2开始到索引9停止，间隔为3\n",
    "print(a[s])"
   ]
  },
  {
   "cell_type": "code",
   "execution_count": 13,
   "id": "f4f519d7",
   "metadata": {},
   "outputs": [
    {
     "name": "stdout",
     "output_type": "stream",
     "text": [
      "[2 4 6 8]\n"
     ]
    }
   ],
   "source": [
    "# 通过冒号来分割切片参数\n",
    "a = np.arange(10)\n",
    "print(a[2:9:2])"
   ]
  },
  {
   "cell_type": "code",
   "execution_count": 15,
   "id": "9d9810a0",
   "metadata": {},
   "outputs": [
    {
     "name": "stdout",
     "output_type": "stream",
     "text": [
      "3\n",
      "[2 3 4 5 6 7 8 9]\n",
      "[2 3 4]\n"
     ]
    }
   ],
   "source": [
    "# 关于冒号的用法\n",
    "a = np.arange(10)\n",
    "print(a[3])\n",
    "print(a[2:])\n",
    "print(a[2:5])"
   ]
  },
  {
   "cell_type": "code",
   "execution_count": 24,
   "id": "0a806311",
   "metadata": {},
   "outputs": [
    {
     "name": "stdout",
     "output_type": "stream",
     "text": [
      "[[1 2 3]\n",
      " [4 5 6]\n",
      " [7 8 9]]\n",
      "[[4 5 6]\n",
      " [7 8 9]]\n"
     ]
    }
   ],
   "source": [
    "# 2. 多维数组切片\n",
    "a = np.array([[1, 2, 3], [4, 5, 6], [7, 8, 9]])\n",
    "print(a)\n",
    "# 从[1:]索引处开始切割\n",
    "print(a[1:])"
   ]
  },
  {
   "cell_type": "code",
   "execution_count": 25,
   "id": "c4681fef",
   "metadata": {},
   "outputs": [
    {
     "name": "stdout",
     "output_type": "stream",
     "text": [
      "[[1 2 3]\n",
      " [4 5 6]\n",
      " [7 8 9]]\n",
      "[[1 2 3]]\n"
     ]
    }
   ],
   "source": [
    "a = np.array([[1, 2, 3], [4, 5, 6], [7, 8, 9]])\n",
    "print(a)\n",
    "# # 从[:1]索引处开始切割\n",
    "print(a[:1])"
   ]
  },
  {
   "cell_type": "code",
   "execution_count": 28,
   "id": "fda1d4cd",
   "metadata": {},
   "outputs": [
    {
     "name": "stdout",
     "output_type": "stream",
     "text": [
      "[[1 2 3]\n",
      " [4 5 6]\n",
      " [7 8 9]]\n",
      "[2 5 8]\n",
      "[4 5 6]\n",
      "[[2 3]\n",
      " [5 6]\n",
      " [8 9]]\n"
     ]
    }
   ],
   "source": [
    "# 省略号的使用\n",
    "a = np.array([[1, 2, 3], [4, 5, 6], [7, 8, 9]])\n",
    "print(a)\n",
    "# 返回数组的第二列\n",
    "print(a[..., 1])\n",
    "# 返回数组的第二行\n",
    "print(a[1, ...])\n",
    "# 返回第二列后的所有项\n",
    "print(a[..., 1:])"
   ]
  },
  {
   "cell_type": "code",
   "execution_count": null,
   "id": "2eb686c3",
   "metadata": {},
   "outputs": [],
   "source": []
  }
 ],
 "metadata": {
  "kernelspec": {
   "display_name": "Python 3",
   "language": "python",
   "name": "python3"
  },
  "language_info": {
   "codemirror_mode": {
    "name": "ipython",
    "version": 3
   },
   "file_extension": ".py",
   "mimetype": "text/x-python",
   "name": "python",
   "nbconvert_exporter": "python",
   "pygments_lexer": "ipython3",
   "version": "3.8.8"
  }
 },
 "nbformat": 4,
 "nbformat_minor": 5
}
