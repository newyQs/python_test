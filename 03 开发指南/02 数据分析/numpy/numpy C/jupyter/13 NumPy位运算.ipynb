{
 "cells": [
  {
   "cell_type": "code",
   "execution_count": 1,
   "id": "9a01d2e1",
   "metadata": {},
   "outputs": [
    {
     "name": "stdout",
     "output_type": "stream",
     "text": [
      "a的二进制数: 0b1010\n",
      "b的二进制数: 0b1100\n",
      "将a与b执行按位与操作: 8\n"
     ]
    }
   ],
   "source": [
    "import numpy as np\n",
    "\n",
    "# 1. bitwise_and()\n",
    "a = 10\n",
    "b = 12\n",
    "print(\"a的二进制数:\", bin(a))\n",
    "print(\"b的二进制数:\", bin(b))\n",
    "print(\"将a与b执行按位与操作:\", np.bitwise_and(a, b))"
   ]
  },
  {
   "cell_type": "code",
   "execution_count": 2,
   "id": "87e8bc8a",
   "metadata": {},
   "outputs": [
    {
     "name": "stdout",
     "output_type": "stream",
     "text": [
      "13 和 17 的二进制数：\n",
      "0b1101 0b10001\n",
      "13 和 17 的位或：\n",
      "29\n"
     ]
    }
   ],
   "source": [
    "# 2. bitwise_or()\n",
    "a, b = 13, 17\n",
    "print('13 和 17 的二进制数：')\n",
    "print(bin(a), bin(b))\n",
    "print('13 和 17 的位或：')\n",
    "print(np.bitwise_or(13, 17))"
   ]
  },
  {
   "cell_type": "code",
   "execution_count": 3,
   "id": "668f17ca",
   "metadata": {},
   "outputs": [
    {
     "name": "stdout",
     "output_type": "stream",
     "text": [
      "二进制表示: 00010100\n",
      "[235]\n",
      "二进制表示:  11101011\n"
     ]
    }
   ],
   "source": [
    "# 3. Invert()\n",
    "# 数据类型为无符号整型uint8\n",
    "arr = np.array([20], dtype=np.uint8)\n",
    "print(\"二进制表示:\", np.binary_repr(20, 8))\n",
    "print(np.invert(arr))\n",
    "# 进行取反操作\n",
    "print(\"二进制表示: \", np.binary_repr(235, 8))"
   ]
  },
  {
   "cell_type": "code",
   "execution_count": 4,
   "id": "f2e89e7c",
   "metadata": {},
   "outputs": [
    {
     "name": "stdout",
     "output_type": "stream",
     "text": [
      "160\n",
      "00010100\n",
      "10100000\n"
     ]
    }
   ],
   "source": [
    "# 4. left_shift()\n",
    "# 移动三位后的输出值\n",
    "print(np.left_shift(20, 3))\n",
    "# 打印移动后20的二进制数\n",
    "print(np.binary_repr(20, width=8))\n",
    "# 函数返回值的二进制数\n",
    "print(np.binary_repr(160, width=8))"
   ]
  },
  {
   "cell_type": "code",
   "execution_count": 5,
   "id": "1a85a19e",
   "metadata": {},
   "outputs": [
    {
     "name": "stdout",
     "output_type": "stream",
     "text": [
      "10\n",
      "00101000\n",
      "00001010\n"
     ]
    }
   ],
   "source": [
    "# 5. right_shift()\n",
    "# 将40右移两位后返回值：\n",
    "print(np.right_shift(40, 2))\n",
    "# 移动后40的二进制数：\n",
    "print(np.binary_repr(40, width=8))\n",
    "# 移动后返回值的二进制数：\n",
    "print(np.binary_repr(10, width=8))"
   ]
  },
  {
   "cell_type": "code",
   "execution_count": null,
   "id": "0e2bce41",
   "metadata": {},
   "outputs": [],
   "source": []
  }
 ],
 "metadata": {
  "kernelspec": {
   "display_name": "Python 3",
   "language": "python",
   "name": "python3"
  },
  "language_info": {
   "codemirror_mode": {
    "name": "ipython",
    "version": 3
   },
   "file_extension": ".py",
   "mimetype": "text/x-python",
   "name": "python",
   "nbconvert_exporter": "python",
   "pygments_lexer": "ipython3",
   "version": "3.8.8"
  }
 },
 "nbformat": 4,
 "nbformat_minor": 5
}
