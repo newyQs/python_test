{
 "cells": [
  {
   "cell_type": "code",
   "execution_count": 1,
   "id": "d3626f2a",
   "metadata": {},
   "outputs": [
    {
     "name": "stdout",
     "output_type": "stream",
     "text": [
      "[0 1 2 3 4 5 6 7]\n",
      "[1 3 5 7 9]\n"
     ]
    }
   ],
   "source": [
    "import numpy as np\n",
    "\n",
    "# 1. numpy.arange()\n",
    "# arange([start,] stop[, step,], dtype=None, *, like=None)\n",
    "x = np.arange(8)\n",
    "print(x)\n",
    "# 设置 start 、stop 值以及步长\n",
    "x = np.arange(1, 10, 2)\n",
    "print(x)"
   ]
  },
  {
   "cell_type": "code",
   "execution_count": 2,
   "id": "5ace5030",
   "metadata": {},
   "outputs": [
    {
     "name": "stdout",
     "output_type": "stream",
     "text": [
      "[ 1.  2.  3.  4.  5.  6.  7.  8.  9. 10.]\n",
      "数组数值范围 ： [10. 12. 14. 16. 18.]\n",
      "(array([1.  , 1.25, 1.5 , 1.75, 2.  ]), 0.25)\n"
     ]
    }
   ],
   "source": [
    "# 2. numpy.linspace()\n",
    "# np.linspace(start, stop, num=50, endpoint=True, retstep=False, dtype=None, axis=0)\n",
    "# 表示在指定的数值区间内，返回均匀间隔的一维等差数组，默认均分 50 份\n",
    "a = np.linspace(1, 10, 10)\n",
    "print(a)\n",
    "# endpoint 为 Fasle 时，此时不包含终止值\n",
    "arr = np.linspace(10, 20, 5, endpoint=False)\n",
    "print(\"数组数值范围 ：\", arr)\n",
    "# retstep参数\n",
    "x = np.linspace(1, 2, 5, retstep=True)\n",
    "print(x)"
   ]
  },
  {
   "cell_type": "code",
   "execution_count": 3,
   "id": "3e0c29cd",
   "metadata": {},
   "outputs": [
    {
     "name": "stdout",
     "output_type": "stream",
     "text": [
      "[ 10.          12.91549665  16.68100537  21.5443469   27.82559402\n",
      "  35.93813664  46.41588834  59.94842503  77.42636827 100.        ]\n",
      "[   2.    4.    8.   16.   32.   64.  128.  256.  512. 1024.]\n"
     ]
    }
   ],
   "source": [
    "# 3. numpy.logspace\n",
    "# np.logspace(start, stop, num=50, endpoint=True, base=10.0, dtype=None, axis=0)\n",
    "# 该函数同样返回一个 ndarray 数组，它用于创建等比数组\n",
    "a = np.logspace(1.0, 2.0, num=10)\n",
    "print(a)\n",
    "# base = 2 的对数函数\n",
    "a = np.logspace(1, 10, num=10, base=2)\n",
    "print(a)"
   ]
  },
  {
   "cell_type": "code",
   "execution_count": null,
   "id": "5f872831",
   "metadata": {},
   "outputs": [],
   "source": []
  }
 ],
 "metadata": {
  "kernelspec": {
   "display_name": "Python 3",
   "language": "python",
   "name": "python3"
  },
  "language_info": {
   "codemirror_mode": {
    "name": "ipython",
    "version": 3
   },
   "file_extension": ".py",
   "mimetype": "text/x-python",
   "name": "python",
   "nbconvert_exporter": "python",
   "pygments_lexer": "ipython3",
   "version": "3.8.8"
  }
 },
 "nbformat": 4,
 "nbformat_minor": 5
}
