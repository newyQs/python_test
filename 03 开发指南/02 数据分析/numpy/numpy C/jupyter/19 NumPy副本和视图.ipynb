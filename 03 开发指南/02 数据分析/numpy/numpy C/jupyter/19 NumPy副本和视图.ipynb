{
 "cells": [
  {
   "cell_type": "code",
   "execution_count": 1,
   "id": "b6fac360",
   "metadata": {},
   "outputs": [
    {
     "name": "stdout",
     "output_type": "stream",
     "text": [
      "原数组 [[ 1  2  3  4]\n",
      " [ 9  0  2  3]\n",
      " [ 1  2  3 19]]\n",
      "a数组的ID: 2137826403504\n",
      "数组b的id: 2137826403504\n",
      "b数组形状的更改也会反映到a数组上:\n",
      "[[ 1  2  3]\n",
      " [ 4  9  0]\n",
      " [ 2  3  1]\n",
      " [ 2  3 19]]\n"
     ]
    }
   ],
   "source": [
    "import numpy as np\n",
    "\n",
    "# 1. 赋值操作\n",
    "# 赋值操作是数组引用的一种方法。\n",
    "# 比如，将 a 数组赋值给变量 b，被赋值后的变量 b 与 a 组具有相同的内存 id。\n",
    "# 因此，无论操作 a、b 中哪个数组，另一个数组也会受到影响。\n",
    "a = np.array([[1, 2, 3, 4], [9, 0, 2, 3], [1, 2, 3, 19]])\n",
    "print(\"原数组\", a)\n",
    "print(\"a数组的ID:\", id(a))\n",
    "b = a\n",
    "print(\"数组b的id:\", id(b))\n",
    "b.shape = 4, 3\n",
    "print(\"b数组形状的更改也会反映到a数组上:\")\n",
    "print(a)"
   ]
  },
  {
   "cell_type": "code",
   "execution_count": 2,
   "id": "85a3641c",
   "metadata": {},
   "outputs": [
    {
     "name": "stdout",
     "output_type": "stream",
     "text": [
      "原数组 [[ 1  2  3  4]\n",
      " [ 9  0  2  3]\n",
      " [ 1  2  3 19]]\n",
      "数组a的ID: 2137830906832\n",
      "数组b的ID: 2137830906928\n",
      "[[ 1  2  3  4]\n",
      " [ 9  0  2  3]\n",
      " [ 1  2  3 19]]\n",
      "原数组a [[ 1  2  3  4]\n",
      " [ 9  0  2  3]\n",
      " [ 1  2  3 19]]\n",
      "新数组b [[ 1  2  3]\n",
      " [ 4  9  0]\n",
      " [ 2  3  1]\n",
      " [ 2  3 19]]\n"
     ]
    }
   ],
   "source": [
    "# 2. ndarray.view()\n",
    "# ndarray.view() 返回一个新生成的数组副本，因此对该数组的操作，不会影响到原数组。\n",
    "a = np.array([[1, 2, 3, 4], [9, 0, 2, 3], [1, 2, 3, 19]])\n",
    "print(\"原数组\", a)\n",
    "print(\"数组a的ID:\", id(a))\n",
    "b = a.view()\n",
    "print(\"数组b的ID:\", id(b))\n",
    "# 打印b数组\n",
    "print(b)\n",
    "# 改变b数组形状\n",
    "b.shape = 4, 3\n",
    "print(\"原数组a\", a)\n",
    "print(\"新数组b\", b)"
   ]
  },
  {
   "cell_type": "code",
   "execution_count": 3,
   "id": "eaf44e26",
   "metadata": {},
   "outputs": [
    {
     "name": "stdout",
     "output_type": "stream",
     "text": [
      "数组arr：\n",
      "[0 1 2 3 4 5 6 7 8 9]\n",
      "[  0   1   2   3 123 234   6   7   8   9]\n"
     ]
    }
   ],
   "source": [
    "# 3. 切片创建视图\n",
    "# 使用切片可以创建视图数组，若要修改视图的就会影响到原数组\n",
    "arr = np.arange(10)\n",
    "print('数组arr：')\n",
    "print(arr)\n",
    "# 创建切片修改原数组arr\n",
    "a = arr[3:]\n",
    "b = arr[3:]\n",
    "a[1] = 123\n",
    "b[2] = 234\n",
    "print(arr)"
   ]
  },
  {
   "cell_type": "code",
   "execution_count": 4,
   "id": "bc5f5fc6",
   "metadata": {},
   "outputs": [
    {
     "name": "stdout",
     "output_type": "stream",
     "text": [
      "原数组 [[ 1  2  3  4]\n",
      " [ 9  0  2  3]\n",
      " [ 1  2  3 19]]\n",
      "a数组ID: 2137826403600\n",
      "b数组ID: 2137830906736\n",
      "打印经过copy方法的b数组：\n",
      "[[ 1  2  3  4]\n",
      " [ 9  0  2  3]\n",
      " [ 1  2  3 19]]\n",
      "原数组 [[ 1  2  3  4]\n",
      " [ 9  0  2  3]\n",
      " [ 1  2  3 19]]\n",
      "经过copy方法的b数组 [[ 1  2  3]\n",
      " [ 4  9  0]\n",
      " [ 2  3  1]\n",
      " [ 2  3 19]]\n"
     ]
    }
   ],
   "source": [
    "# 4. ndarray.copy()\n",
    "# 该方法返回原数组的副本，对副本的修改不会影响到原数组。\n",
    "a = np.array([[1, 2, 3, 4], [9, 0, 2, 3], [1, 2, 3, 19]])\n",
    "print(\"原数组\", a)\n",
    "print(\"a数组ID:\", id(a))\n",
    "b = a.copy()\n",
    "print(\"b数组ID:\", id(b))\n",
    "print(\"打印经过copy方法的b数组：\")\n",
    "print(b)\n",
    "b.shape = 4, 3\n",
    "print(\"原数组\", a)\n",
    "print(\"经过copy方法的b数组\", b)"
   ]
  },
  {
   "cell_type": "code",
   "execution_count": null,
   "id": "8f9bc668",
   "metadata": {},
   "outputs": [],
   "source": []
  }
 ],
 "metadata": {
  "kernelspec": {
   "display_name": "Python 3",
   "language": "python",
   "name": "python3"
  },
  "language_info": {
   "codemirror_mode": {
    "name": "ipython",
    "version": 3
   },
   "file_extension": ".py",
   "mimetype": "text/x-python",
   "name": "python",
   "nbconvert_exporter": "python",
   "pygments_lexer": "ipython3",
   "version": "3.8.8"
  }
 },
 "nbformat": 4,
 "nbformat_minor": 5
}
