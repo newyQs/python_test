{
 "cells": [
  {
   "cell_type": "code",
   "execution_count": 4,
   "id": "f2fa1640",
   "metadata": {},
   "outputs": [
    {
     "name": "stdout",
     "output_type": "stream",
     "text": [
      "[[0 1 2]\n",
      " [3 4 5]\n",
      " [6 7 8]]\n",
      "[0 1 2]\n",
      "[3 4 5]\n",
      "[6 7 8]\n",
      "<numpy.flatiter object at 0x000001D1D7C26AD0>\n",
      "0，1，2，3，4，5，6，7，8，"
     ]
    }
   ],
   "source": [
    "import numpy as np\n",
    "\n",
    "# 1. 数组变维操作\n",
    "\n",
    "# 1.1 numpy.ndarray.flat\n",
    "# numpy.ndarray.flat 返回一个数组迭代器\n",
    "a = np.arange(9).reshape(3, 3)\n",
    "print(a)\n",
    "# 遍历数组\n",
    "for row in a:\n",
    "    print(row)\n",
    "# 使用flat属性：\n",
    "print(a.flat)\n",
    "for ele in a.flat:\n",
    "    print(ele, end=\"，\")"
   ]
  },
  {
   "cell_type": "code",
   "execution_count": 3,
   "id": "aa82ed85",
   "metadata": {},
   "outputs": [
    {
     "name": "stdout",
     "output_type": "stream",
     "text": [
      "[[0 1 2 3]\n",
      " [4 5 6 7]]\n",
      "[0 1 2 3 4 5 6 7]\n",
      "[0 4 1 5 2 6 3 7]\n"
     ]
    }
   ],
   "source": [
    "# 1.2 numpy.ndarray.flatten()\n",
    "# numpy.ndarray.flatten 返回一份数组副本，对副本修改不会影响原始数组\n",
    "a = np.arange(8).reshape(2, 4)\n",
    "print(a)\n",
    "# 默认按行C风格展开的数组\n",
    "print(a.flatten())\n",
    "# 按列F风格展开的数组\n",
    "print(a.flatten(order='F'))"
   ]
  },
  {
   "cell_type": "code",
   "execution_count": 5,
   "id": "2b3d343a",
   "metadata": {},
   "outputs": [
    {
     "name": "stdout",
     "output_type": "stream",
     "text": [
      "原数组：\n",
      "[[0 1 2 3]\n",
      " [4 5 6 7]]\n",
      "调用 ravel 函数后：\n",
      "[0 1 2 3 4 5 6 7]\n",
      "F 风格顺序调用 ravel 函数之后：\n",
      "[0 4 1 5 2 6 3 7]\n"
     ]
    }
   ],
   "source": [
    "# 1.3 numpy.ravel()\n",
    "# numpy.ravel() 将多维数组中的元素以一维数组的形式展开，该方法返回数组的视图（view），如果修改，则会影响原始数组\n",
    "a = np.arange(8).reshape(2, 4)\n",
    "print('原数组：')\n",
    "print(a)\n",
    "print('调用 ravel 函数后：')\n",
    "print(a.ravel())\n",
    "print('F 风格顺序调用 ravel 函数之后：')\n",
    "print(a.ravel(order='F'))"
   ]
  },
  {
   "cell_type": "code",
   "execution_count": 6,
   "id": "f01c277a",
   "metadata": {},
   "outputs": [
    {
     "name": "stdout",
     "output_type": "stream",
     "text": [
      "[[ 0  1  2  3]\n",
      " [ 4  5  6  7]\n",
      " [ 8  9 10 11]]\n",
      "[[ 0  4  8]\n",
      " [ 1  5  9]\n",
      " [ 2  6 10]\n",
      " [ 3  7 11]]\n"
     ]
    }
   ],
   "source": [
    "# 2. 数组转置操作\n",
    "\n",
    "# 2.1 numpy.transpose()\n",
    "a = np.arange(12).reshape(3, 4)\n",
    "print(a)\n",
    "print(np.transpose(a))"
   ]
  },
  {
   "cell_type": "code",
   "execution_count": 8,
   "id": "e09ebcdf",
   "metadata": {},
   "outputs": [
    {
     "name": "stdout",
     "output_type": "stream",
     "text": [
      "[[ 0  1  2  3]\n",
      " [ 4  5  6  7]\n",
      " [ 8  9 10 11]]\n",
      "[[ 0  4  8]\n",
      " [ 1  5  9]\n",
      " [ 2  6 10]\n",
      " [ 3  7 11]]\n"
     ]
    }
   ],
   "source": [
    "a = np.arange(12).reshape(3, 4)\n",
    "print(a)\n",
    "print(a.T)"
   ]
  },
  {
   "cell_type": "code",
   "execution_count": 9,
   "id": "854cb421",
   "metadata": {},
   "outputs": [
    {
     "name": "stdout",
     "output_type": "stream",
     "text": [
      "[[[ 0  1  2]\n",
      "  [ 3  4  5]\n",
      "  [ 6  7  8]]\n",
      "\n",
      " [[ 9 10 11]\n",
      "  [12 13 14]\n",
      "  [15 16 17]]\n",
      "\n",
      " [[18 19 20]\n",
      "  [21 22 23]\n",
      "  [24 25 26]]]\n",
      "--------------\n",
      "[[[ 0  9 18]\n",
      "  [ 3 12 21]\n",
      "  [ 6 15 24]]\n",
      "\n",
      " [[ 1 10 19]\n",
      "  [ 4 13 22]\n",
      "  [ 7 16 25]]\n",
      "\n",
      " [[ 2 11 20]\n",
      "  [ 5 14 23]\n",
      "  [ 8 17 26]]]\n"
     ]
    }
   ],
   "source": [
    "# 2.2 numpy.rollaxis()\n",
    "# 创建了三维的 ndarray\n",
    "a = np.arange(27).reshape(3, 3, 3)\n",
    "print(a)\n",
    "print(\"--------------\")\n",
    "# 对换0轴与2轴\n",
    "print(np.swapaxes(a, 2, 0))"
   ]
  },
  {
   "cell_type": "code",
   "execution_count": 10,
   "id": "7062e4c9",
   "metadata": {},
   "outputs": [
    {
     "name": "stdout",
     "output_type": "stream",
     "text": [
      "1 4\n",
      "1 5\n",
      "[[5. 6. 7.]\n",
      " [6. 7. 8.]\n",
      " [7. 8. 9.]]\n",
      "[[5 6 7]\n",
      " [6 7 8]\n",
      " [7 8 9]]\n"
     ]
    }
   ],
   "source": [
    "# 3. 修改数组维度操作\n",
    "\n",
    "# 3.1 numpy.broadcast()\n",
    "a = np.array([[1], [2], [3]])\n",
    "b = np.array([4, 5, 6])\n",
    "# 对b广播a\n",
    "d = np.broadcast(a, b)\n",
    "# d它拥有 iterator 属性\n",
    "r, c = d.iters\n",
    "print(next(r), next(c))\n",
    "print(next(r), next(c))\n",
    "# 使用broadcast将a与b相加\n",
    "e = np.broadcast(a, b)\n",
    "f = np.empty(e.shape)\n",
    "f.flat = [x + y for (x, y) in e]\n",
    "print(f)\n",
    "print(a + b)"
   ]
  },
  {
   "cell_type": "code",
   "execution_count": 11,
   "id": "3bd64b31",
   "metadata": {},
   "outputs": [
    {
     "name": "stdout",
     "output_type": "stream",
     "text": [
      "原数组 [[0 1 2 3]]\n",
      "调用 broadcast_to 函数之后：\n",
      "[[0 1 2 3]\n",
      " [0 1 2 3]\n",
      " [0 1 2 3]\n",
      " [0 1 2 3]]\n"
     ]
    }
   ],
   "source": [
    "# 3.2 numpy.broadcast_to()\n",
    "a = np.arange(4).reshape(1, 4)\n",
    "print(\"原数组\", a)\n",
    "print('调用 broadcast_to 函数之后：')\n",
    "print(np.broadcast_to(a, (4, 4)))"
   ]
  },
  {
   "cell_type": "code",
   "execution_count": 12,
   "id": "fb172dc3",
   "metadata": {},
   "outputs": [
    {
     "name": "stdout",
     "output_type": "stream",
     "text": [
      "数组 x：\n",
      "[[1 2]\n",
      " [3 4]]\n",
      "数组 y：\n",
      "[[[1 2]\n",
      "  [3 4]]]\n",
      "\n",
      "\n",
      "数组 x 和 y 的形状：\n",
      "(2, 2) (1, 2, 2)\n"
     ]
    }
   ],
   "source": [
    "# 3.3 numpy.expand_dims()\n",
    "x = np.array(([1, 2], [3, 4]))\n",
    "print('数组 x：')\n",
    "print(x)\n",
    "# 在 0 轴处插入新的轴\n",
    "y = np.expand_dims(x, axis=0)\n",
    "print('数组 y：')\n",
    "print(y)\n",
    "print('\\n')\n",
    "print('数组 x 和 y 的形状：')\n",
    "print(x.shape, y.shape)\n"
   ]
  },
  {
   "cell_type": "code",
   "execution_count": 13,
   "id": "651a69a8",
   "metadata": {},
   "outputs": [
    {
     "name": "stdout",
     "output_type": "stream",
     "text": [
      "(1, 3, 1)\n",
      "(3,)\n",
      "(1, 3)\n"
     ]
    }
   ],
   "source": [
    "#  3.4 numpy.squeeze()\n",
    "x = np.array([[[0], [1], [2]]])\n",
    "print(x.shape)\n",
    "print(np.squeeze(x).shape)\n",
    "print(np.squeeze(x, axis=(2,)).shape)"
   ]
  },
  {
   "cell_type": "code",
   "execution_count": 14,
   "id": "2ed58924",
   "metadata": {},
   "outputs": [
    {
     "name": "stdout",
     "output_type": "stream",
     "text": [
      "[[[0 1 2]\n",
      "  [3 4 5]\n",
      "  [6 7 8]]]\n",
      "[[0 1 2]\n",
      " [3 4 5]\n",
      " [6 7 8]]\n",
      "数组 a 和 b 的形状：\n",
      "(1, 3, 1) (1, 2, 2)\n"
     ]
    }
   ],
   "source": [
    "a = np.arange(9).reshape(1, 3, 3)\n",
    "print(a)\n",
    "b = np.squeeze(a)\n",
    "print(b)\n",
    "print('数组 a 和 b 的形状：')\n",
    "print(x.shape, y.shape)"
   ]
  },
  {
   "cell_type": "code",
   "execution_count": 15,
   "id": "f8c34425",
   "metadata": {},
   "outputs": [
    {
     "name": "stdout",
     "output_type": "stream",
     "text": [
      "[[10 20]\n",
      " [30 40]]\n",
      "[[50 60]\n",
      " [70 80]]\n",
      "[[10 20]\n",
      " [30 40]\n",
      " [50 60]\n",
      " [70 80]]\n",
      "[[10 20 50 60]\n",
      " [30 40 70 80]]\n"
     ]
    }
   ],
   "source": [
    "# 4 连接与分割数组操作\n",
    "\n",
    "# 4.1 连接数组操作\n",
    "# 创建数组a\n",
    "a = np.array([[10, 20], [30, 40]])\n",
    "print(a)\n",
    "# 创建数组b\n",
    "b = np.array([[50, 60], [70, 80]])\n",
    "print(b)\n",
    "# 沿轴 0 连接两个数组\n",
    "print(np.concatenate((a, b)))\n",
    "# 沿轴 1 连接两个数组\n",
    "print(np.concatenate((a, b), axis=1))"
   ]
  },
  {
   "cell_type": "code",
   "execution_count": 16,
   "id": "3e92f0e6",
   "metadata": {},
   "outputs": [
    {
     "name": "stdout",
     "output_type": "stream",
     "text": [
      "[[1 2]\n",
      " [3 4]\n",
      " [5 6]\n",
      " [7 8]]\n"
     ]
    }
   ],
   "source": [
    "a = np.array([[1, 2], [3, 4]])\n",
    "b = np.array([[5, 6], [7, 8]])\n",
    "# 垂直堆叠\n",
    "c = np.vstack((a, b))\n",
    "print(c)"
   ]
  },
  {
   "cell_type": "code",
   "execution_count": 17,
   "id": "299d10f5",
   "metadata": {},
   "outputs": [
    {
     "name": "stdout",
     "output_type": "stream",
     "text": [
      "[0 1 2 3 4 5]\n",
      "[array([0, 1, 2]), array([3, 4, 5])]\n",
      "[array([0, 1, 2]), array([3]), array([4, 5])]\n"
     ]
    }
   ],
   "source": [
    "# 4.2 分割数组操作\n",
    "a = np.arange(6)\n",
    "# 原数组\n",
    "print(a)\n",
    "# 将数组分为二个形状大小相等的子数组\n",
    "b = np.split(a, 2)\n",
    "print(b)\n",
    "# 将数组在一维数组中标明要位置分割\n",
    "b = np.split(a, [3, 4])\n",
    "print(b)"
   ]
  },
  {
   "cell_type": "code",
   "execution_count": 18,
   "id": "3452eda2",
   "metadata": {},
   "outputs": [
    {
     "name": "stdout",
     "output_type": "stream",
     "text": [
      "[[2. 0. 6. 4. 7. 0.]\n",
      " [0. 4. 7. 4. 3. 7.]]\n",
      "[array([[2., 0.],\n",
      "       [0., 4.]]), array([[6., 4.],\n",
      "       [7., 4.]]), array([[7., 0.],\n",
      "       [3., 7.]])]\n"
     ]
    }
   ],
   "source": [
    "# arr1数组\n",
    "arr1 = np.floor(10 * np.random.random((2, 6)))\n",
    "print(arr1)\n",
    "# 拆分后数组\n",
    "print(np.hsplit(arr1, 3))"
   ]
  },
  {
   "cell_type": "code",
   "execution_count": null,
   "id": "943c1c71",
   "metadata": {},
   "outputs": [],
   "source": []
  }
 ],
 "metadata": {
  "kernelspec": {
   "display_name": "Python 3",
   "language": "python",
   "name": "python3"
  },
  "language_info": {
   "codemirror_mode": {
    "name": "ipython",
    "version": 3
   },
   "file_extension": ".py",
   "mimetype": "text/x-python",
   "name": "python",
   "nbconvert_exporter": "python",
   "pygments_lexer": "ipython3",
   "version": "3.8.8"
  }
 },
 "nbformat": 4,
 "nbformat_minor": 5
}
