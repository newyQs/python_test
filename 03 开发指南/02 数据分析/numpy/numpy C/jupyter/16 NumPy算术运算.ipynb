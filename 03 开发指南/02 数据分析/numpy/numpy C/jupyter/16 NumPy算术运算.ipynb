{
 "cells": [
  {
   "cell_type": "code",
   "execution_count": null,
   "id": "a046d818",
   "metadata": {},
   "outputs": [],
   "source": [
    "import numpy as np\n",
    "\n",
    "# NumPy 数组的“加减乘除”算术运算，分别对应 add()、subtract()、multiple() 以及 divide() 函数。\n",
    "# 注意：做算术运算时，输入数组必须具有相同的形状，或者符合数组的广播规则，才可以执行运算。\n",
    "\n",
    "# 数组a\n",
    "a = np.arange(9, dtype=np.float_).reshape(3, 3)\n",
    "print(a)\n",
    "# 数组b\n",
    "b = np.array([10, 10, 10])\n",
    "print(b)\n",
    "# 数组加法运算\n",
    "print(np.add(a, b))\n",
    "# 数组减法运算\n",
    "print(np.subtract(a, b))\n",
    "# 数组乘法运算\n",
    "print(np.multiply(a, b))\n",
    "# 数组除法运算\n",
    "print(np.divide(a, b))"
   ]
  },
  {
   "cell_type": "code",
   "execution_count": null,
   "id": "a5fd6bc0",
   "metadata": {},
   "outputs": [],
   "source": [
    "# numpy.reciprocal()\n",
    "# 该函数对数组中的每个元素取倒数，并以数组的形式将它们返回。\n",
    "# 当数组元素的数据类型为整型（int）时，对于绝对值小于 1 的元素，返回值为 0，而当数组中包含 0 元素时，返回值将出现 overflow（inf） 溢出提示\n",
    "\n",
    "# 注意此处有0\n",
    "a = np.array([0.25, 1.33, 1, 0, 100])\n",
    "# 数组a默认为浮点类型数据\n",
    "print(a)\n",
    "# 对数组a使用求倒数操作\n",
    "print(np.reciprocal(a))\n",
    "# b数组的数据类型为整形int\n",
    "b = np.array([100], dtype=int)\n",
    "print(b)\n",
    "# 对数组b使用求倒数操作\n",
    "print(np.reciprocal(b))"
   ]
  },
  {
   "cell_type": "code",
   "execution_count": null,
   "id": "4cfaf7dc",
   "metadata": {},
   "outputs": [],
   "source": [
    "# numpy.power()\n",
    "a = np.array([10, 100, 1000])\n",
    "# a数组\n",
    "print('我们的数组是；')\n",
    "# 调用 power 函数\n",
    "print(np.power(a, 2))\n",
    "# b数组\n",
    "b = np.array([1, 2, 3])\n",
    "print(b)\n",
    "# 调用 power 函数\n",
    "print(np.power(a, b))"
   ]
  },
  {
   "cell_type": "code",
   "execution_count": null,
   "id": "c8f702d1",
   "metadata": {},
   "outputs": [],
   "source": [
    "# numpy.mod()\n",
    "# 返回两个数组相对应位置上元素相除后的余数，它与 numpy.remainder() 的作用相同\n",
    "a = np.array([11, 22, 33])\n",
    "b = np.array([3, 5, 7])\n",
    "# a与b相应位置的元素做除法\n",
    "print(np.mod(a, b))\n",
    "# remainder方法一样\n",
    "print(np.remainder(a, b))"
   ]
  },
  {
   "cell_type": "code",
   "execution_count": null,
   "id": "64dab14e",
   "metadata": {},
   "outputs": [],
   "source": [
    "# 复数数组处理函数\n",
    "a = np.array([-5.6j, 0.2j, 11., 1 + 1j])\n",
    "print(a)\n",
    "# real()\n",
    "print(np.real(a))\n",
    "# imag()\n",
    "print(np.imag(a))\n",
    "# conj()\n",
    "print(np.conj(a))\n",
    "# angle()\n",
    "print(np.angle(a))\n",
    "# angle() 带参数deg\n",
    "print(np.angle(a, deg=True))"
   ]
  }
 ],
 "metadata": {
  "kernelspec": {
   "display_name": "Python 3",
   "language": "python",
   "name": "python3"
  },
  "language_info": {
   "codemirror_mode": {
    "name": "ipython",
    "version": 3
   },
   "file_extension": ".py",
   "mimetype": "text/x-python",
   "name": "python",
   "nbconvert_exporter": "python",
   "pygments_lexer": "ipython3",
   "version": "3.8.8"
  }
 },
 "nbformat": 4,
 "nbformat_minor": 5
}
