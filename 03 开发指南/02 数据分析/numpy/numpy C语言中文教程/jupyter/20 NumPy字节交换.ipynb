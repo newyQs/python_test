{
 "cells": [
  {
   "cell_type": "code",
   "execution_count": 1,
   "id": "8b84b638",
   "metadata": {},
   "outputs": [
    {
     "name": "stdout",
     "output_type": "stream",
     "text": [
      "[   1  256 8755]\n",
      "<map object at 0x00000215DF068A30>\n",
      "[  256     1 13090]\n",
      "<map object at 0x00000215DF068A30>\n"
     ]
    }
   ],
   "source": [
    "import numpy as np\n",
    "\n",
    "# 1. numpy.ndarray.byteswap()\n",
    "# 该函数将数组中每个元素的字节顺序进行大小端调换。\n",
    "a = np.array([1, 256, 8755], dtype=np.int16)\n",
    "# 数组a\n",
    "print(a)\n",
    "# 以16进制形式表示内存中的数据\n",
    "print(map(hex, a))\n",
    "# byteswap()函数通过传递True参数在适当的位置进行转换\n",
    "# 调用byteswap()函数\n",
    "print(a.byteswap(True))\n",
    "# 十六进制形式\n",
    "print(map(hex, a))\n"
   ]
  },
  {
   "cell_type": "code",
   "execution_count": null,
   "id": "3e874c96",
   "metadata": {},
   "outputs": [],
   "source": []
  }
 ],
 "metadata": {
  "kernelspec": {
   "display_name": "Python 3",
   "language": "python",
   "name": "python3"
  },
  "language_info": {
   "codemirror_mode": {
    "name": "ipython",
    "version": 3
   },
   "file_extension": ".py",
   "mimetype": "text/x-python",
   "name": "python",
   "nbconvert_exporter": "python",
   "pygments_lexer": "ipython3",
   "version": "3.8.8"
  }
 },
 "nbformat": 4,
 "nbformat_minor": 5
}
