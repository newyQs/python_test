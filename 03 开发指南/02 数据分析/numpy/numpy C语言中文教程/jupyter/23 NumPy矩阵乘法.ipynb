{
 "cells": [
  {
   "cell_type": "code",
   "execution_count": 1,
   "id": "ab2f4a11",
   "metadata": {},
   "outputs": [
    {
     "name": "stdout",
     "output_type": "stream",
     "text": [
      "[[[ 9 16 21]\n",
      "  [24 25 24]\n",
      "  [21 16  9]]]\n"
     ]
    }
   ],
   "source": [
    "import numpy as np\n",
    "\n",
    "# 1. 逐元素矩阵乘法\n",
    "# multiple() 函数用于两个矩阵的逐元素乘法\n",
    "array1 = np.array([[1, 2, 3], [4, 5, 6], [7, 8, 9]], ndmin=3)\n",
    "array2 = np.array([[9, 8, 7], [6, 5, 4], [3, 2, 1]], ndmin=3)\n",
    "result = np.multiply(array1, array2)\n",
    "print(result)"
   ]
  },
  {
   "cell_type": "code",
   "execution_count": 2,
   "id": "bb0e0af9",
   "metadata": {},
   "outputs": [
    {
     "name": "stdout",
     "output_type": "stream",
     "text": [
      "[[[ 30  24  18]\n",
      "  [ 84  69  54]\n",
      "  [138 114  90]]]\n"
     ]
    }
   ],
   "source": [
    "# 2. 矩阵乘积运算\n",
    "# matmul() 用于计算两个数组的矩阵乘积\n",
    "array1 = np.array([[1, 2, 3], [4, 5, 6], [7, 8, 9]], ndmin=3)\n",
    "array2 = np.array([[9, 8, 7], [6, 5, 4], [3, 2, 1]], ndmin=3)\n",
    "result = np.matmul(array1, array2)\n",
    "print(result)"
   ]
  },
  {
   "cell_type": "code",
   "execution_count": 3,
   "id": "86855db5",
   "metadata": {},
   "outputs": [
    {
     "name": "stdout",
     "output_type": "stream",
     "text": [
      "[[[[ 30  24  18]]\n",
      "\n",
      "  [[ 84  69  54]]\n",
      "\n",
      "  [[138 114  90]]]]\n"
     ]
    }
   ],
   "source": [
    "# 3. 矩阵点积\n",
    "# dot() 函数用于计算两个矩阵的点积\n",
    "array1 = np.array([[1, 2, 3], [4, 5, 6], [7, 8, 9]], ndmin=3)\n",
    "array2 = np.array([[9, 8, 7], [6, 5, 4], [3, 2, 1]], ndmin=3)\n",
    "result = np.dot(array1, array2)\n",
    "print(result)"
   ]
  },
  {
   "cell_type": "code",
   "execution_count": null,
   "id": "2bed3383",
   "metadata": {},
   "outputs": [],
   "source": []
  }
 ],
 "metadata": {
  "kernelspec": {
   "display_name": "Python 3",
   "language": "python",
   "name": "python3"
  },
  "language_info": {
   "codemirror_mode": {
    "name": "ipython",
    "version": 3
   },
   "file_extension": ".py",
   "mimetype": "text/x-python",
   "name": "python",
   "nbconvert_exporter": "python",
   "pygments_lexer": "ipython3",
   "version": "3.8.8"
  }
 },
 "nbformat": 4,
 "nbformat_minor": 5
}
