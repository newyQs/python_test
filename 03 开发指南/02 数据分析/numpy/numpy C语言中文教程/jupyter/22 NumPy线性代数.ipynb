{
 "cells": [
  {
   "cell_type": "code",
   "execution_count": 1,
   "id": "05bde059",
   "metadata": {},
   "outputs": [
    {
     "name": "stdout",
     "output_type": "stream",
     "text": [
      "32\n",
      "[[3400 6200]\n",
      " [ 374  712]]\n"
     ]
    }
   ],
   "source": [
    "import numpy as np\n",
    "\n",
    "# 1. numpy.dot()\n",
    "# 按照矩阵的乘法规则，计算两个矩阵的点积运算结果。\n",
    "# 当输入一维数组时返回一个结果值，若输入的多维数组则同样返回一个多维数组结果。\n",
    "\n",
    "# 输入一维数组\n",
    "A = [1, 2, 3]\n",
    "B = [4, 5, 6]\n",
    "print(np.dot(A, B))\n",
    "\n",
    "# 输入二维数组\n",
    "a = np.array(\n",
    "    [[100, 200],\n",
    "     [23, 12]]\n",
    ")\n",
    "b = np.array(\n",
    "    [[10, 20],\n",
    "     [12, 21]]\n",
    ")\n",
    "dot = np.dot(a, b)\n",
    "print(dot)"
   ]
  },
  {
   "cell_type": "code",
   "execution_count": 2,
   "id": "e2245686",
   "metadata": {},
   "outputs": [
    {
     "name": "stdout",
     "output_type": "stream",
     "text": [
      "5528\n"
     ]
    }
   ],
   "source": [
    "# 2. numpy.vdot()\n",
    "# 该函数用于计算两个向量的点积结果，与 dot() 函数不同\n",
    "a = np.array([[100, 200], [23, 12]])\n",
    "b = np.array([[10, 20], [12, 21]])\n",
    "vdot = np.vdot(a, b)\n",
    "print(vdot)"
   ]
  },
  {
   "cell_type": "code",
   "execution_count": 3,
   "id": "070f77ad",
   "metadata": {},
   "outputs": [
    {
     "name": "stdout",
     "output_type": "stream",
     "text": [
      "[[  21   43]\n",
      " [2100 4300]]\n",
      "[[  31   42]\n",
      " [3100 4200]]\n"
     ]
    }
   ],
   "source": [
    "# 3. numpy.inner()\n",
    "# inner() 方法用于计算数组之间的内积。当计算的数组是一维数组时，它与 dot() 函数相同，若输入的是多维数组则两者存在不同\n",
    "A = [[1, 10],\n",
    "     [100, 1000]]\n",
    "B = [[1, 2],\n",
    "     [3, 4]]\n",
    "# inner函数\n",
    "print(np.inner(A, B))\n",
    "# dot函数\n",
    "print(np.dot(A, B))"
   ]
  },
  {
   "cell_type": "code",
   "execution_count": 4,
   "id": "2e247402",
   "metadata": {},
   "outputs": [
    {
     "name": "stdout",
     "output_type": "stream",
     "text": [
      "[[ 48  49  43]\n",
      " [144 145 112]\n",
      " [240 241 181]]\n"
     ]
    }
   ],
   "source": [
    "# 4. numpy.matmul()\n",
    "# 该函数返回两个矩阵的乘积，假如两个矩阵的维度不一致，就会产生错误。\n",
    "a = np.array([[1, 2, 3], [4, 5, 6], [7, 8, 9]])\n",
    "b = np.array([[23, 23, 12], [2, 1, 2], [7, 8, 9]])\n",
    "mul = np.matmul(a, b)\n",
    "print(mul)"
   ]
  },
  {
   "cell_type": "code",
   "execution_count": 5,
   "id": "937216a0",
   "metadata": {},
   "outputs": [
    {
     "name": "stdout",
     "output_type": "stream",
     "text": [
      "-2.0000000000000004\n"
     ]
    }
   ],
   "source": [
    "# 5. numpy.linalg.det()\n",
    "# 该函数使用对角线元素来计算矩阵的行列式\n",
    "a = np.array([[1, 2], [3, 4]])\n",
    "print(np.linalg.det(a))"
   ]
  },
  {
   "cell_type": "code",
   "execution_count": 6,
   "id": "ffae4745",
   "metadata": {},
   "outputs": [
    {
     "name": "stdout",
     "output_type": "stream",
     "text": [
      "数组 m：\n",
      "[[ 3  2  1]\n",
      " [ 1  1  1]\n",
      " [ 1  2 -1]]\n",
      "矩阵 n：\n",
      "[[10]\n",
      " [ 6]\n",
      " [ 2]]\n",
      "计算：m^(-1)n：\n",
      "[[1.]\n",
      " [2.]\n",
      " [3.]]\n"
     ]
    }
   ],
   "source": [
    "# 6. numpy.linalg.solve()\n",
    "# 该函数用于求解线性矩阵方程组，并以矩阵的形式表示线性方程的解\n",
    "m = np.array([[3, 2, 1], [1, 1, 1], [1, 2, -1]])\n",
    "print('数组 m：')\n",
    "print(m)\n",
    "print('矩阵 n：')\n",
    "n = np.array([[10], [6], [2]])\n",
    "print(n)\n",
    "print('计算：m^(-1)n：')\n",
    "x = np.linalg.solve(m, n)\n",
    "print(x)"
   ]
  },
  {
   "cell_type": "code",
   "execution_count": 7,
   "id": "8c8d9626",
   "metadata": {},
   "outputs": [
    {
     "name": "stdout",
     "output_type": "stream",
     "text": [
      "原数组: [[1 2]\n",
      " [3 4]]\n",
      "求逆: [[-2.   1. ]\n",
      " [ 1.5 -0.5]]\n"
     ]
    }
   ],
   "source": [
    "# 7. numpy.linalg.inv()\n",
    "# 该函数用于计算矩阵的逆矩阵，逆矩阵与原矩阵相乘得到单位矩阵\n",
    "a = np.array([[1, 2], [3, 4]])\n",
    "print(\"原数组:\", a)\n",
    "b = np.linalg.inv(a)\n",
    "print(\"求逆:\", b)"
   ]
  },
  {
   "cell_type": "code",
   "execution_count": null,
   "id": "59aaab79",
   "metadata": {},
   "outputs": [],
   "source": []
  }
 ],
 "metadata": {
  "kernelspec": {
   "display_name": "Python 3",
   "language": "python",
   "name": "python3"
  },
  "language_info": {
   "codemirror_mode": {
    "name": "ipython",
    "version": 3
   },
   "file_extension": ".py",
   "mimetype": "text/x-python",
   "name": "python",
   "nbconvert_exporter": "python",
   "pygments_lexer": "ipython3",
   "version": "3.8.8"
  }
 },
 "nbformat": 4,
 "nbformat_minor": 5
}
