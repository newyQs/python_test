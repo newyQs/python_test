{
 "cells": [
  {
   "cell_type": "code",
   "execution_count": 2,
   "id": "e49bbff8",
   "metadata": {},
   "outputs": [
    {
     "name": "stdout",
     "output_type": "stream",
     "text": [
      "['welcome to C net' 'url is c.biancheng.net']\n"
     ]
    }
   ],
   "source": [
    "import numpy as np\n",
    "\n",
    "# 1. numpy.char.add()\n",
    "# numpy.char.add() 将两个数组对应位置的字符串元素进行连接\n",
    "print(np.char.add(['welcome', 'url'], [' to C net', ' is c.biancheng.net']))"
   ]
  },
  {
   "cell_type": "code",
   "execution_count": 3,
   "id": "6d23e4b5",
   "metadata": {},
   "outputs": [
    {
     "name": "stdout",
     "output_type": "stream",
     "text": [
      "c.biancheng.netc.biancheng.netc.biancheng.net\n"
     ]
    }
   ],
   "source": [
    "# 2. numpy.char.multiply()\n",
    "# 该函数将指定的字符串进行多次拷贝，并将拷贝结果返回\n",
    "print(np.char.multiply('c.biancheng.net', 3))"
   ]
  },
  {
   "cell_type": "code",
   "execution_count": 4,
   "id": "7f667be8",
   "metadata": {},
   "outputs": [
    {
     "name": "stdout",
     "output_type": "stream",
     "text": [
      "**c.bianchneg.net***\n"
     ]
    }
   ],
   "source": [
    "# 3. numpy.char.center()\n",
    "# numpy.char.center() 用于居中字符串\n",
    "print(np.char.center(\"c.bianchneg.net\", 20, '*'))"
   ]
  },
  {
   "cell_type": "code",
   "execution_count": 5,
   "id": "80260a81",
   "metadata": {},
   "outputs": [
    {
     "name": "stdout",
     "output_type": "stream",
     "text": [
      "Python\n"
     ]
    }
   ],
   "source": [
    "# 4. numpy.char.capitalize()\n",
    "# numpy.char.capitalize() 将字符串的第一个字母转换为大写\n",
    "print(np.char.capitalize('python'))"
   ]
  },
  {
   "cell_type": "code",
   "execution_count": 6,
   "id": "da18d43c",
   "metadata": {},
   "outputs": [
    {
     "name": "stdout",
     "output_type": "stream",
     "text": [
      "Welcome To China\n"
     ]
    }
   ],
   "source": [
    "# 5. numpy.char.title()\n",
    "# numpy.char.title() 将字符串数组中每个元素的第一个字母转换为大写\n",
    "print(np.char.title(\"welcome to china\"))"
   ]
  },
  {
   "cell_type": "code",
   "execution_count": 7,
   "id": "13633f9f",
   "metadata": {},
   "outputs": [
    {
     "name": "stdout",
     "output_type": "stream",
     "text": [
      "welcome to myhome\n"
     ]
    }
   ],
   "source": [
    "# 6. numpy.char.lower()\n",
    "# numpy.char.lower() 将字符串数组中每个元素转换为小写\n",
    "print(np.char.lower(\"WELCOME TO MYHOME\"))"
   ]
  },
  {
   "cell_type": "code",
   "execution_count": 8,
   "id": "26a2f0c2",
   "metadata": {},
   "outputs": [
    {
     "name": "stdout",
     "output_type": "stream",
     "text": [
      "WELCOME TO PYTHON\n"
     ]
    }
   ],
   "source": [
    "# 7. numpy.char.upper()\n",
    "# numpy.char.upper() 将数组中的每个元素转换为大写\n",
    "print(np.char.upper(\"Welcome To Python\"))"
   ]
  },
  {
   "cell_type": "code",
   "execution_count": 9,
   "id": "70d8e3a9",
   "metadata": {},
   "outputs": [
    {
     "name": "stdout",
     "output_type": "stream",
     "text": [
      "['Welcome', 'To', 'Python']\n"
     ]
    }
   ],
   "source": [
    "# 8. numpy.char.split()\n",
    "# 该函数通过指定分隔符对字符串进行分割，并返回数组序列。默认情况下，分隔符为空格\n",
    "print(np.char.split(\"Welcome To Python\"), sep=\" \")"
   ]
  },
  {
   "cell_type": "code",
   "execution_count": 10,
   "id": "05c4fd0b",
   "metadata": {},
   "outputs": [
    {
     "name": "stdout",
     "output_type": "stream",
     "text": [
      "Splitting the String line by line..\n",
      "['Welcome', 'To', 'Python']\n"
     ]
    }
   ],
   "source": [
    "# 9. numpy.char.splitlines()\n",
    "# numpy.char.splitlines() 以换行符作为分隔符来分割字符串，并返回一个数组序列\n",
    "print(\"Splitting the String line by line..\")\n",
    "print(np.char.splitlines(\"Welcome\\nTo\\nPython\"))"
   ]
  },
  {
   "cell_type": "code",
   "execution_count": 11,
   "id": "fe1824b1",
   "metadata": {},
   "outputs": [
    {
     "name": "stdout",
     "output_type": "stream",
     "text": [
      "原字符串: <class 'str'>\n",
      "welcome to Python\n"
     ]
    }
   ],
   "source": [
    "# 10. numpy.char.strip()\n",
    "print(\"原字符串:\", str)\n",
    "str = \"     welcome to Python     \"\n",
    "print(np.char.strip(str))"
   ]
  },
  {
   "cell_type": "code",
   "execution_count": 12,
   "id": "76db5769",
   "metadata": {},
   "outputs": [
    {
     "name": "stdout",
     "output_type": "stream",
     "text": [
      "L:o:v:e\n",
      "['L:o:v:e' 'P-y-t-h-o-n']\n"
     ]
    }
   ],
   "source": [
    "# 11. numpy.char.join()\n",
    "# numpy.char.join() 通过指定的分隔符来连接数组中的元素或字符串\n",
    "print(np.char.join(':', 'Love'))\n",
    "# 也可指定多个分隔符\n",
    "print(np.char.join([':', '-'], ['Love', 'Python']))"
   ]
  },
  {
   "cell_type": "code",
   "execution_count": 13,
   "id": "aaee7e88",
   "metadata": {},
   "outputs": [
    {
     "name": "stdout",
     "output_type": "stream",
     "text": [
      "原字符串: Welcome to China\n",
      "Hello China\n"
     ]
    }
   ],
   "source": [
    "# 12. numpy.char.replace()\n",
    "str = \"Welcome to China\"\n",
    "print(\"原字符串:\", str)\n",
    "# 更改后字符串\n",
    "print(np.char.replace(str, \"Welcome to\", \"Hello\"))"
   ]
  },
  {
   "cell_type": "code",
   "execution_count": 14,
   "id": "a8601ce9",
   "metadata": {},
   "outputs": [
    {
     "name": "stdout",
     "output_type": "stream",
     "text": [
      "b'\\xe6\\x85\\x93\\x83\\x96\\x94\\x85@\\xa3\\x96@\\xc3\\x88\\x89\\x95\\x81'\n",
      "Welcome to China\n"
     ]
    }
   ],
   "source": [
    "# 13. numpy.char.encode()与decode()\n",
    "# 默认以utf-8的形式进行编码与解码\n",
    "# cp500国际编码\n",
    "encode_str = np.char.encode(\"Welcome to China\", 'cp500')\n",
    "decode_str = np.char.decode(encode_str, 'cp500')\n",
    "print(encode_str)\n",
    "print(decode_str)"
   ]
  },
  {
   "cell_type": "code",
   "execution_count": null,
   "id": "84cf2aa9",
   "metadata": {},
   "outputs": [],
   "source": []
  }
 ],
 "metadata": {
  "kernelspec": {
   "display_name": "Python 3",
   "language": "python",
   "name": "python3"
  },
  "language_info": {
   "codemirror_mode": {
    "name": "ipython",
    "version": 3
   },
   "file_extension": ".py",
   "mimetype": "text/x-python",
   "name": "python",
   "nbconvert_exporter": "python",
   "pygments_lexer": "ipython3",
   "version": "3.8.8"
  }
 },
 "nbformat": 4,
 "nbformat_minor": 5
}
