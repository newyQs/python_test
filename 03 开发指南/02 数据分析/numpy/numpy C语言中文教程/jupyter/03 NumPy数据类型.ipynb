{
 "cells": [
  {
   "cell_type": "code",
   "execution_count": 1,
   "metadata": {},
   "outputs": [
    {
     "name": "stdout",
     "output_type": "stream",
     "text": [
      "int64\n"
     ]
    }
   ],
   "source": [
    "import numpy as np\n",
    "\n",
    "# 1. 创建一个dtype对象\n",
    "a = np.dtype(np.int64)\n",
    "print(a)"
   ]
  },
  {
   "cell_type": "code",
   "execution_count": 5,
   "metadata": {},
   "outputs": [
    {
     "name": "stdout",
     "output_type": "stream",
     "text": [
      "[('score', 'i1')]\n",
      "<class 'numpy.dtype[void]'>\n"
     ]
    }
   ],
   "source": [
    "# 2. 使用数据类型标识码\n",
    "dt = np.dtype([('score', 'i1')])\n",
    "print(dt)\n",
    "print(type(dt))"
   ]
  },
  {
   "cell_type": "code",
   "execution_count": 3,
   "metadata": {},
   "outputs": [
    {
     "name": "stdout",
     "output_type": "stream",
     "text": [
      "[(55,) (75,) (85,)]\n",
      "[('score', 'i1')]\n",
      "[55 75 85]\n"
     ]
    }
   ],
   "source": [
    "# 3. 将上述标识码应用到ndarray中\n",
    "dt = np.dtype([('score', 'i1')])\n",
    "a = np.array([(55,), (75,), (85,)], dtype=dt)\n",
    "print(a)\n",
    "print(a.dtype)\n",
    "print(a['score'])"
   ]
  },
  {
   "cell_type": "code",
   "execution_count": 4,
   "metadata": {},
   "outputs": [
    {
     "name": "stdout",
     "output_type": "stream",
     "text": [
      "[('name', 'S20'), ('age', 'i1'), ('salary', '<f4')]\n",
      "[(b'ycs', 32, 6357.5) (b'jxe', 28, 6856.8)]\n"
     ]
    }
   ],
   "source": [
    "# 4. 定义结构化数据\n",
    "teacher = np.dtype([('name', 'S20'), ('age', 'i1'), ('salary', 'f4')])\n",
    "print(teacher)\n",
    "# 将其应用于ndarray对象\n",
    "b = np.array([('ycs', 32, 6357.50), ('jxe', 28, 6856.80)], dtype=teacher)\n",
    "print(b)"
   ]
  },
  {
   "cell_type": "code",
   "execution_count": null,
   "metadata": {},
   "outputs": [],
   "source": []
  }
 ],
 "metadata": {
  "kernelspec": {
   "display_name": "Python 3",
   "language": "python",
   "name": "python3"
  },
  "language_info": {
   "codemirror_mode": {
    "name": "ipython",
    "version": 3
   },
   "file_extension": ".py",
   "mimetype": "text/x-python",
   "name": "python",
   "nbconvert_exporter": "python",
   "pygments_lexer": "ipython3",
   "version": "3.8.8"
  }
 },
 "nbformat": 4,
 "nbformat_minor": 5
}
