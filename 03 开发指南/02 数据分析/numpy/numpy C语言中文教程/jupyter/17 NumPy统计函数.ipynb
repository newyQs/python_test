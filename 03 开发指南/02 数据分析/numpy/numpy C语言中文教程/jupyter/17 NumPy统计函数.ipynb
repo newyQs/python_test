{
 "cells": [
  {
   "cell_type": "code",
   "execution_count": 2,
   "id": "327deec1",
   "metadata": {},
   "outputs": [
    {
     "name": "stdout",
     "output_type": "stream",
     "text": [
      "数组a是：\n",
      "[[3 7 5]\n",
      " [8 4 3]\n",
      " [2 4 9]]\n",
      "2\n",
      "[3 3 2]\n",
      "9\n",
      "[8 7 9]\n"
     ]
    }
   ],
   "source": [
    "import numpy as np\n",
    "\n",
    "# numpy.amin() 和 numpy.amax()\n",
    "# 这两个函数用于计算数组沿指定轴的最小值与最大值，并以数组形式返回\n",
    "# 对于二维数组来说，axis=1 表示沿着水平方向，axis=0 表示沿着垂直方向。\n",
    "a = np.array([[3, 7, 5], [8, 4, 3], [2, 4, 9]])\n",
    "print('数组a是：')\n",
    "print(a)\n",
    "# amin()函数\n",
    "print(np.amin(a))\n",
    "# 调用 amin() 函数，axis=1\n",
    "print(np.amin(a, 1))\n",
    "# 调用amax()函数\n",
    "print(np.amax(a))\n",
    "# 再次调用amax()函数\n",
    "print(np.amax(a, axis=0))"
   ]
  },
  {
   "cell_type": "code",
   "execution_count": 7,
   "id": "97530f6e",
   "metadata": {},
   "outputs": [
    {
     "name": "stdout",
     "output_type": "stream",
     "text": [
      "原数组：\n",
      "[[ 2 10 20]\n",
      " [80 43 31]\n",
      " [22 43 10]]\n",
      "沿着axis 1: [18 49 33]\n",
      "沿着axis 0: [78 33 21]\n"
     ]
    }
   ],
   "source": [
    "# numpy.ptp()\n",
    "# numpy.ptp() 用于计算数组元素中最值之差值，也就是（最大值 - 最小值）。\n",
    "a = np.array([[2, 10, 20], [80, 43, 31], [22, 43, 10]])\n",
    "print(\"原数组：\")\n",
    "print(a)\n",
    "print(\"沿着axis 1:\", np.ptp(a, 1))\n",
    "print(\"沿着axis 0:\", np.ptp(a, 0))"
   ]
  },
  {
   "cell_type": "code",
   "execution_count": 10,
   "id": "a43908b0",
   "metadata": {},
   "outputs": [
    {
     "name": "stdout",
     "output_type": "stream",
     "text": [
      "原数组：\n",
      "[[ 2 10 20]\n",
      " [80 43 31]\n",
      " [22 43 10]]\n",
      "沿着axis=0计算百分位数 [ 6.  16.6 12. ]\n",
      "沿着axis=1计算百分位数 [ 3.6 33.4 12.4]\n"
     ]
    }
   ],
   "source": [
    "# numpy.percentile()\n",
    "# 百分位数，是统计学中使用的一种度量单位。该函数表示沿指定轴，计算数组中任意百分比分位数\n",
    "a = np.array([[2, 10, 20], [80, 43, 31], [22, 43, 10]])\n",
    "print(\"原数组：\")\n",
    "print(a)\n",
    "print(\"沿着axis=0计算百分位数\", np.percentile(a, 10, 0))\n",
    "print(\"沿着axis=1计算百分位数\", np.percentile(a, 10, 1))"
   ]
  },
  {
   "cell_type": "code",
   "execution_count": 11,
   "id": "cd2c8378",
   "metadata": {},
   "outputs": [
    {
     "name": "stdout",
     "output_type": "stream",
     "text": [
      "[[30 65 70]\n",
      " [80 95 10]\n",
      " [50 90 60]]\n",
      "65.0\n",
      "[50. 90. 60.]\n",
      "[65. 80. 60.]\n"
     ]
    }
   ],
   "source": [
    "# numpy.median()\n",
    "# numpy.median() 用于计算 a 数组元素的中位数（中值）\n",
    "a = np.array([[30, 65, 70], [80, 95, 10], [50, 90, 60]])\n",
    "# 数组a:\n",
    "print(a)\n",
    "# median()\n",
    "print(np.median(a))\n",
    "# axis 0\n",
    "print(np.median(a, axis=0))\n",
    "# axis 1:\n",
    "print(np.median(a, axis=1))"
   ]
  },
  {
   "cell_type": "code",
   "execution_count": 12,
   "id": "bc1d8e50",
   "metadata": {},
   "outputs": [
    {
     "name": "stdout",
     "output_type": "stream",
     "text": [
      "我们的数组是：\n",
      "[[1 2 3]\n",
      " [3 4 5]\n",
      " [4 5 6]]\n",
      "调用 mean() 函数：\n",
      "3.6666666666666665\n",
      "沿轴 0 调用 mean() 函数：\n",
      "[2.66666667 3.66666667 4.66666667]\n",
      "沿轴 1 调用 mean() 函数：\n",
      "[2. 4. 5.]\n"
     ]
    }
   ],
   "source": [
    "# numpy.mean()\n",
    "# 该函数表示沿指定的轴，计算数组中元素的算术平均值（即元素之总和除以元素数量）\n",
    "a = np.array([[1, 2, 3], [3, 4, 5], [4, 5, 6]])\n",
    "print('我们的数组是：')\n",
    "print(a)\n",
    "print('调用 mean() 函数：')\n",
    "print(np.mean(a))\n",
    "print('沿轴 0 调用 mean() 函数：')\n",
    "print(np.mean(a, axis=0))\n",
    "print('沿轴 1 调用 mean() 函数：')\n",
    "print(np.mean(a, axis=1))"
   ]
  },
  {
   "cell_type": "code",
   "execution_count": 13,
   "id": "ff3dd1be",
   "metadata": {},
   "outputs": [
    {
     "name": "stdout",
     "output_type": "stream",
     "text": [
      "a数组是：\n",
      "[1 2 3 4]\n",
      "2.5\n",
      "2.0\n",
      "(2.0, 10.0)\n"
     ]
    }
   ],
   "source": [
    "# numpy.average()\n",
    "# 加权平均值是将数组中各数值乘以相应的权数，然后再对权重值求总和，最后以权重的总和除以总的单位数（即因子个数）。\n",
    "# numpy.average() 根据在数组中给出的权重，计算数组元素的加权平均值。该函数可以接受一个轴参数 axis，如果未指定，则数组被展开为一维数组。\n",
    "a = np.array([1, 2, 3, 4])\n",
    "print('a数组是：')\n",
    "print(a)\n",
    "# average()函数：\n",
    "print(np.average(a))\n",
    "# 若不指定权重相当于对数组求均值\n",
    "we = np.array([4, 3, 2, 1])\n",
    "# 调用 average() 函数：')\n",
    "print(np.average(a, weights=we))\n",
    "# returned 为Ture，则返回权重的和\n",
    "print(np.average([1, 2, 3, 4], weights=[4, 3, 2, 1], returned=True))"
   ]
  },
  {
   "cell_type": "code",
   "execution_count": 14,
   "id": "056e6487",
   "metadata": {},
   "outputs": [
    {
     "name": "stdout",
     "output_type": "stream",
     "text": [
      "[[0 1]\n",
      " [2 3]\n",
      " [4 5]]\n",
      "[0.625 2.625 4.625]\n",
      "(array([0.625, 2.625, 4.625]), array([8., 8., 8.]))\n"
     ]
    }
   ],
   "source": [
    "# 在多维数组中，您也可以指定 axis 轴参数\n",
    "a = np.arange(6).reshape(3, 2)\n",
    "# 多维数组a\n",
    "print(a)\n",
    "# 修改后数组\n",
    "wt = np.array([3, 5])\n",
    "print(np.average(a, axis=1, weights=wt))\n",
    "# 修改后数组\n",
    "print(np.average(a, axis=1, weights=wt, returned=True))"
   ]
  },
  {
   "cell_type": "code",
   "execution_count": 3,
   "id": "17bfcea1",
   "metadata": {},
   "outputs": [
    {
     "name": "stdout",
     "output_type": "stream",
     "text": [
      "1.25\n"
     ]
    }
   ],
   "source": [
    "# 方差np.var()\n",
    "print(np.var([1, 2, 3, 4]))"
   ]
  },
  {
   "cell_type": "code",
   "execution_count": 4,
   "id": "74b363b7",
   "metadata": {},
   "outputs": [
    {
     "name": "stdout",
     "output_type": "stream",
     "text": [
      "1.118033988749895\n"
     ]
    }
   ],
   "source": [
    "# 标准差np.std()\n",
    "print(np.std([1, 2, 3, 4]))"
   ]
  },
  {
   "cell_type": "code",
   "execution_count": null,
   "id": "53b708e8",
   "metadata": {},
   "outputs": [],
   "source": []
  }
 ],
 "metadata": {
  "kernelspec": {
   "display_name": "Python 3",
   "language": "python",
   "name": "python3"
  },
  "language_info": {
   "codemirror_mode": {
    "name": "ipython",
    "version": 3
   },
   "file_extension": ".py",
   "mimetype": "text/x-python",
   "name": "python",
   "nbconvert_exporter": "python",
   "pygments_lexer": "ipython3",
   "version": "3.8.8"
  }
 },
 "nbformat": 4,
 "nbformat_minor": 5
}
