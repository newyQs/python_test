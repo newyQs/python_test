{
 "cells": [
  {
   "cell_type": "code",
   "execution_count": 1,
   "id": "3336d7c6",
   "metadata": {},
   "outputs": [],
   "source": [
    "import numpy as np\n",
    "\n",
    "# 1. numpy.save()\n",
    "# numpy.save() 方法将输入数组存储在.npy文件中\n",
    "a = np.array([1, 2, 3, 4, 5])\n",
    "np.save('first', a)"
   ]
  },
  {
   "cell_type": "code",
   "execution_count": 3,
   "id": "f2021ab4",
   "metadata": {},
   "outputs": [
    {
     "name": "stdout",
     "output_type": "stream",
     "text": [
      "[1 2 3 4 5]\n"
     ]
    }
   ],
   "source": [
    "# 使用 load() 从 first.npy 文件中加载数据\n",
    "b = np.load('first.npy')\n",
    "print(b)"
   ]
  },
  {
   "cell_type": "code",
   "execution_count": 4,
   "id": "943cc5c7",
   "metadata": {},
   "outputs": [
    {
     "name": "stdout",
     "output_type": "stream",
     "text": [
      "[1. 2. 3. 4. 5.]\n"
     ]
    }
   ],
   "source": [
    "# 2. savetxt()\n",
    "# savetxt() 和 loadtxt() 分别表示以文本格式存储数据或加载数据\n",
    "a = np.array([1, 2, 3, 4, 5])\n",
    "np.savetxt('second.txt', a)\n",
    "# 使用loadtxt重载数据\n",
    "b = np.loadtxt('second.txt')\n",
    "print(b)"
   ]
  },
  {
   "cell_type": "code",
   "execution_count": null,
   "id": "6f5a6276",
   "metadata": {},
   "outputs": [],
   "source": []
  }
 ],
 "metadata": {
  "kernelspec": {
   "display_name": "Python 3",
   "language": "python",
   "name": "python3"
  },
  "language_info": {
   "codemirror_mode": {
    "name": "ipython",
    "version": 3
   },
   "file_extension": ".py",
   "mimetype": "text/x-python",
   "name": "python",
   "nbconvert_exporter": "python",
   "pygments_lexer": "ipython3",
   "version": "3.8.8"
  }
 },
 "nbformat": 4,
 "nbformat_minor": 5
}
