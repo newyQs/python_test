{
 "cells": [
  {
   "cell_type": "code",
   "execution_count": 23,
   "id": "8a324fdf",
   "metadata": {},
   "outputs": [
    {
     "name": "stdout",
     "output_type": "stream",
     "text": [
      "[[0. 0.]\n",
      " [0. 0.]\n",
      " [0. 0.]]\n",
      "[[3145774 5046364]\n",
      " [6553711 7078005]\n",
      " [7536741 5242880]]\n"
     ]
    }
   ],
   "source": [
    "import numpy as np\n",
    "\n",
    "# 1. numpy.empty()\n",
    "# empty(shape, dtype=float, order='C', *, like=None)\n",
    "arr = np.empty((3, 2))\n",
    "print(arr)\n",
    "arr = np.empty((3, 2), dtype=int)\n",
    "print(arr)"
   ]
  },
  {
   "cell_type": "code",
   "execution_count": 26,
   "id": "31995097",
   "metadata": {},
   "outputs": [
    {
     "name": "stdout",
     "output_type": "stream",
     "text": [
      "[0. 0. 0. 0. 0. 0.]\n",
      "[0.+0.j 0.+0.j 0.+0.j 0.+0.j 0.+0.j 0.+0.j]\n",
      "[[(0, 0) (0, 0) (0, 0)]\n",
      " [(0, 0) (0, 0) (0, 0)]\n",
      " [(0, 0) (0, 0) (0, 0)]]\n"
     ]
    }
   ],
   "source": [
    "# 2. numpy.zeros()\n",
    "# zeros(shape, dtype=float, order='C', *, like=None)\n",
    "a = np.zeros(6)\n",
    "print(a)\n",
    "b = np.zeros(6, dtype=\"complex64\")\n",
    "print(b)\n",
    "# 使用自定义的数据类型\n",
    "c = np.zeros((3, 3), dtype=[('x', 'i4'), ('y', 'i4')])\n",
    "print(c)"
   ]
  },
  {
   "cell_type": "code",
   "execution_count": 6,
   "id": "dc448c5b",
   "metadata": {},
   "outputs": [
    {
     "name": "stdout",
     "output_type": "stream",
     "text": [
      "[[1 1]\n",
      " [1 1]\n",
      " [1 1]]\n"
     ]
    }
   ],
   "source": [
    "# 3. numpy.ones()\n",
    "# ones(shape, dtype=None, order='C', *, like=None)\n",
    "arr1 = np.ones((3, 2), dtype=int)\n",
    "print(arr1)"
   ]
  },
  {
   "cell_type": "code",
   "execution_count": 10,
   "id": "d91a70b7",
   "metadata": {},
   "outputs": [
    {
     "name": "stdout",
     "output_type": "stream",
     "text": [
      "<class 'numpy.ndarray'>\n",
      "[1 2 3 4 5 6 7]\n",
      "<class 'numpy.ndarray'>\n",
      "[1 2 3 4 5 6 7]\n",
      "<class 'numpy.ndarray'>\n",
      "[list([1, 2, 3, 4, 5, 6, 7]) list([8, 9])]\n"
     ]
    }
   ],
   "source": [
    "# 4. numpy.asarray()\n",
    "# asarray(a, dtype=None, order=None, *, like=None)\n",
    "# 将列表转化为 numpy 数组：\n",
    "l = [1, 2, 3, 4, 5, 6, 7]\n",
    "a = np.asarray(l)\n",
    "print(type(a))\n",
    "print(a)\n",
    "# 使用元组创建 numpy 数组：\n",
    "l = (1, 2, 3, 4, 5, 6, 7)\n",
    "a = np.asarray(l)\n",
    "print(type(a))\n",
    "print(a)\n",
    "# 使用嵌套列表创建多维数组：\n",
    "l = [[1, 2, 3, 4, 5, 6, 7], [8, 9]]\n",
    "a = np.asarray(l)\n",
    "print(type(a))\n",
    "print(a)"
   ]
  },
  {
   "cell_type": "code",
   "execution_count": 11,
   "id": "a0ab6639",
   "metadata": {},
   "outputs": [
    {
     "name": "stdout",
     "output_type": "stream",
     "text": [
      "<class 'list'>\n",
      "[b'h' b'e' b'l' b'l' b'o' b' ' b'w' b'o' b'r' b'l' b'd']\n",
      "<class 'numpy.ndarray'>\n"
     ]
    }
   ],
   "source": [
    "# 5. numpy.frombuffer()\n",
    "# frombuffer(buffer, dtype=float, count=-1, offset=0, *, like=None)\n",
    "# 字节串类型\n",
    "st = b'hello world'\n",
    "print(type(l))\n",
    "a = np.frombuffer(st, dtype=\"S1\")\n",
    "print(a)\n",
    "print(type(a))"
   ]
  },
  {
   "cell_type": "code",
   "execution_count": 12,
   "id": "de33f683",
   "metadata": {},
   "outputs": [
    {
     "name": "stdout",
     "output_type": "stream",
     "text": [
      "[0. 1. 2. 3. 4. 5.]\n"
     ]
    }
   ],
   "source": [
    "# 6. numpy.fromiter()\n",
    "# fromiter(iterable, dtype, count=-1, *, like=None)\n",
    "# 使用 range 函数创建列表对象\n",
    "lis = range(6)\n",
    "# 生成可迭代对象i\n",
    "i = iter(lis)\n",
    "# 使用i迭代器，通过fromiter方法创建ndarray\n",
    "array = np.fromiter(i, dtype=float)\n",
    "print(array)"
   ]
  },
  {
   "cell_type": "code",
   "execution_count": null,
   "id": "10cba732",
   "metadata": {},
   "outputs": [],
   "source": []
  }
 ],
 "metadata": {
  "kernelspec": {
   "display_name": "Python 3",
   "language": "python",
   "name": "python3"
  },
  "language_info": {
   "codemirror_mode": {
    "name": "ipython",
    "version": 3
   },
   "file_extension": ".py",
   "mimetype": "text/x-python",
   "name": "python",
   "nbconvert_exporter": "python",
   "pygments_lexer": "ipython3",
   "version": "3.8.8"
  }
 },
 "nbformat": 4,
 "nbformat_minor": 5
}
