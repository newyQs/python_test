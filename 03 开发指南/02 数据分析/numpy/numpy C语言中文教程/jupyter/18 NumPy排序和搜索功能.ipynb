{
 "cells": [
  {
   "cell_type": "code",
   "execution_count": 1,
   "id": "9c839ef0",
   "metadata": {},
   "outputs": [
    {
     "name": "stdout",
     "output_type": "stream",
     "text": [
      "a数组是：\n",
      "[[3 7]\n",
      " [9 1]]\n",
      "[[3 7]\n",
      " [1 9]]\n",
      "[[3 1]\n",
      " [9 7]]\n",
      "[(b'raju', 21) (b'anil', 25) (b'ravi', 17) (b'amar', 27)]\n",
      "[(b'amar', 27) (b'anil', 25) (b'raju', 21) (b'ravi', 17)]\n"
     ]
    }
   ],
   "source": [
    "import numpy as np\n",
    "\n",
    "# 1. numpy.sort()\n",
    "# numpy.sort() 对输入数组执行排序，并返回一个数组副本\n",
    "a = np.array([[3, 7], [9, 1]])\n",
    "print('a数组是：')\n",
    "print(a)\n",
    "# 调用sort()函数\n",
    "print(np.sort(a))\n",
    "# 按列排序：\n",
    "print(np.sort(a, axis=0))\n",
    "# 设置在sort函数中排序字段\n",
    "dt = np.dtype([('name', 'S10'), ('age', int)])\n",
    "a = np.array([(\"raju\", 21), (\"anil\", 25), (\"ravi\", 17), (\"amar\", 27)], dtype=dt)\n",
    "# 再次打印a数组\n",
    "print(a)\n",
    "# 按name字段排序\n",
    "print(np.sort(a, order='name'))"
   ]
  },
  {
   "cell_type": "code",
   "execution_count": 2,
   "id": "360e46ce",
   "metadata": {},
   "outputs": [
    {
     "name": "stdout",
     "output_type": "stream",
     "text": [
      "[0 3 1 4 2]\n",
      "a 12\n",
      "d 12\n",
      "b 90\n",
      "e 211\n",
      "c 380\n"
     ]
    }
   ],
   "source": [
    "# 3. numpy.lexsort()\n",
    "# numpy.lexsort() 按键序列对数组进行排序，它返回一个已排序的索引数组，类似于 numpy.argsort()\n",
    "a = np.array(['a', 'b', 'c', 'd', 'e'])\n",
    "b = np.array([12, 90, 380, 12, 211])\n",
    "ind = np.lexsort((a, b))\n",
    "# 打印排序元素的索引数组\n",
    "print(ind)\n",
    "# 使用索引数组对数组进行排序\n",
    "for i in ind:\n",
    "    print(a[i], b[i])"
   ]
  },
  {
   "cell_type": "code",
   "execution_count": 3,
   "id": "cd13343e",
   "metadata": {},
   "outputs": [
    {
     "name": "stdout",
     "output_type": "stream",
     "text": [
      "原数组b [ 12  90 380  12 211]\n",
      "打印非0元素的索引位置\n",
      "(array([0, 1, 2, 3, 4], dtype=int64),)\n"
     ]
    }
   ],
   "source": [
    "# 4. numpy.nonzero()\n",
    "# 该函数从数组中查找非零元素的索引位置\n",
    "b = np.array([12, 90, 380, 12, 211])\n",
    "print(\"原数组b\", b)\n",
    "print(\"打印非0元素的索引位置\")\n",
    "print(b.nonzero())"
   ]
  },
  {
   "cell_type": "code",
   "execution_count": 4,
   "id": "3a98a003",
   "metadata": {},
   "outputs": [
    {
     "name": "stdout",
     "output_type": "stream",
     "text": [
      "(array([1, 2, 4], dtype=int64),)\n",
      "(array([0, 1, 1], dtype=int64), array([1, 0, 1], dtype=int64))\n"
     ]
    }
   ],
   "source": [
    "# 5. numpy.where()\n",
    "# numpy.where() 的返回值是满足了给定条件的元素索引值\n",
    "b = np.array([12, 90, 380, 12, 211])\n",
    "print(np.where(b > 12))\n",
    "c = np.array([[20, 24], [21, 23]])\n",
    "print(np.where(c > 20))"
   ]
  },
  {
   "cell_type": "code",
   "execution_count": 5,
   "id": "ce7a0f70",
   "metadata": {},
   "outputs": [
    {
     "name": "stdout",
     "output_type": "stream",
     "text": [
      "[[0. 1. 2.]\n",
      " [3. 4. 5.]\n",
      " [6. 7. 8.]]\n",
      "[[ True False  True]\n",
      " [False  True False]\n",
      " [ True False  True]]\n",
      "[0. 2. 4. 6. 8.]\n"
     ]
    }
   ],
   "source": [
    "# 6. numpy.extract()\n",
    "# 该函数的返回值是满足了给定条件的元素值\n",
    "x = np.arange(9.).reshape(3, 3)\n",
    "# 打印数组x:\n",
    "print(x)\n",
    "# 设置条件选择偶数元素\n",
    "condition = np.mod(x, 2) == 0\n",
    "# 输出布尔值数组\n",
    "print(condition)\n",
    "# 按condition提取满足条件的元素值\n",
    "print(np.extract(condition, x))"
   ]
  },
  {
   "cell_type": "code",
   "execution_count": 6,
   "id": "35631dec",
   "metadata": {},
   "outputs": [
    {
     "name": "stdout",
     "output_type": "stream",
     "text": [
      "[[30 40 70]\n",
      " [80 20 10]\n",
      " [50 90 60]]\n",
      "7\n",
      "[30 40 70 80 20 10 50 90 60]\n",
      "[1 2 0]\n",
      "[2 0 1]\n"
     ]
    }
   ],
   "source": [
    "# 7. numpy.argmax()\n",
    "# 该函数返回最大值的的索引，与其相反的函数是 argmin() 求最小值索引\n",
    "a = np.array([[30, 40, 70], [80, 20, 10], [50, 90, 60]])\n",
    "# a数组\n",
    "print(a)\n",
    "# argmax() 函数\n",
    "print(np.argmax(a))\n",
    "# 将数组以一维展开\n",
    "print(a.flatten())\n",
    "# 沿轴 0 的最大值索引：\n",
    "maxindex = np.argmax(a, axis=0)\n",
    "print(maxindex)\n",
    "# 沿轴 1 的最大值索引\n",
    "maxindex = np.argmax(a, axis=1)\n",
    "print(maxindex)"
   ]
  },
  {
   "cell_type": "code",
   "execution_count": 7,
   "id": "34fcc305",
   "metadata": {},
   "outputs": [
    {
     "name": "stdout",
     "output_type": "stream",
     "text": [
      "数组b：\n",
      "[[3 4 7]\n",
      " [8 2 1]\n",
      " [5 9 6]]\n",
      "5\n",
      "1\n",
      "[0 1 1]\n",
      "[0 2 0]\n"
     ]
    }
   ],
   "source": [
    "# 8. numpy.argmin()\n",
    "# argmin() 求最小值索引\n",
    "b = np.array([[3, 4, 7], [8, 2, 1], [5, 9, 6]])\n",
    "print('数组b：')\n",
    "print(b)\n",
    "# 调用 argmin()函数\n",
    "minindex = np.argmin(b)\n",
    "print(minindex)\n",
    "# 展开数组中的最小值：\n",
    "print(b.flatten()[minindex])\n",
    "# 沿轴 0 的最小值索引：\n",
    "minindex = np.argmin(b, axis=0)\n",
    "print(minindex)\n",
    "# 沿轴 1 的最小值索引：\n",
    "minindex = np.argmin(b, axis=1)\n",
    "print(minindex)"
   ]
  },
  {
   "cell_type": "code",
   "execution_count": null,
   "id": "2b631368",
   "metadata": {},
   "outputs": [],
   "source": []
  }
 ],
 "metadata": {
  "kernelspec": {
   "display_name": "Python 3",
   "language": "python",
   "name": "python3"
  },
  "language_info": {
   "codemirror_mode": {
    "name": "ipython",
    "version": 3
   },
   "file_extension": ".py",
   "mimetype": "text/x-python",
   "name": "python",
   "nbconvert_exporter": "python",
   "pygments_lexer": "ipython3",
   "version": "3.8.8"
  }
 },
 "nbformat": 4,
 "nbformat_minor": 5
}
