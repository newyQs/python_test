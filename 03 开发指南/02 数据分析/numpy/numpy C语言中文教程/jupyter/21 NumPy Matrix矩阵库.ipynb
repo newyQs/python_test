{
 "cells": [
  {
   "cell_type": "code",
   "execution_count": 1,
   "id": "23a2d6c4",
   "metadata": {},
   "outputs": [
    {
     "name": "stdout",
     "output_type": "stream",
     "text": [
      "[[0. 0.]\n",
      " [0. 0.]]\n"
     ]
    }
   ],
   "source": [
    "import numpy.matlib\n",
    "import numpy as np\n",
    "\n",
    "# 1. matlib.empty()\n",
    "# matlib.empty() 返回一个空矩阵，所以它的创建速度非常快\n",
    "# 矩阵中会填充无意义的随机值\n",
    "print(np.matlib.empty((2, 2)))"
   ]
  },
  {
   "cell_type": "code",
   "execution_count": 2,
   "id": "bed74a2b",
   "metadata": {},
   "outputs": [
    {
     "name": "stdout",
     "output_type": "stream",
     "text": [
      "[[0. 0.]\n",
      " [0. 0.]]\n"
     ]
    }
   ],
   "source": [
    "# 2. numpy.matlib.zeros()\n",
    "# numpy.matlib.zeros() 创建一个以 0 填充的矩阵\n",
    "print(np.matlib.zeros((2, 2)))"
   ]
  },
  {
   "cell_type": "code",
   "execution_count": 3,
   "id": "4cceb625",
   "metadata": {},
   "outputs": [
    {
     "name": "stdout",
     "output_type": "stream",
     "text": [
      "[[1. 1.]\n",
      " [1. 1.]]\n"
     ]
    }
   ],
   "source": [
    "# 3. numpy.matlib.ones()\n",
    "# numpy.matlib.ones() 创建一个以 1 填充的矩阵\n",
    "print(np.matlib.ones((2, 2)))"
   ]
  },
  {
   "cell_type": "code",
   "execution_count": 4,
   "id": "6bbe707e",
   "metadata": {},
   "outputs": [
    {
     "name": "stdout",
     "output_type": "stream",
     "text": [
      "[[1. 0. 0. 0.]\n",
      " [0. 1. 0. 0.]\n",
      " [0. 0. 1. 0.]]\n"
     ]
    }
   ],
   "source": [
    "# 4. numpy.matlib.eye()\n",
    "# numpy.matlib.eye() 返回一个对角线元素为 1，而其他元素为 0 的矩阵\n",
    "print(np.matlib.eye(n=3, M=4, k=0, dtype=float))"
   ]
  },
  {
   "cell_type": "code",
   "execution_count": 5,
   "id": "b7522547",
   "metadata": {},
   "outputs": [
    {
     "name": "stdout",
     "output_type": "stream",
     "text": [
      "[[1. 0. 0. 0. 0.]\n",
      " [0. 1. 0. 0. 0.]\n",
      " [0. 0. 1. 0. 0.]\n",
      " [0. 0. 0. 1. 0.]\n",
      " [0. 0. 0. 0. 1.]]\n"
     ]
    }
   ],
   "source": [
    "# 5. numpy.matlib.identity()\n",
    "# 该函数返回一个给定大小的单位矩阵，矩阵的对角线元素为 1，而其他元素均为 0\n",
    "print(np.matlib.identity(5, dtype=float))"
   ]
  },
  {
   "cell_type": "code",
   "execution_count": 6,
   "id": "5628802a",
   "metadata": {},
   "outputs": [
    {
     "name": "stdout",
     "output_type": "stream",
     "text": [
      "[[0.81325103 0.57303476 0.52665486]\n",
      " [0.71358193 0.44343806 0.38107213]\n",
      " [0.08277113 0.68022086 0.32091717]]\n",
      "[[1 2]\n",
      " [3 4]]\n",
      "[[1 2]\n",
      " [3 4]]\n",
      "[[1 2]\n",
      " [3 4]]\n"
     ]
    }
   ],
   "source": [
    "# 6. numpy.matlib.rand()\n",
    "# numpy.matlib.rand() 创建一个以随机数填充，并给定维度的矩阵\n",
    "print(np.matlib.rand(3, 3))\n",
    "\n",
    "# 这里需要注意，因为 matrix 只能表示二维数据，而 ndarray 也可以是二维数组，所以两者可以互相转换\n",
    "i = np.matrix('1,2;3,4')\n",
    "print(i)\n",
    "\n",
    "# 实现 matrix 与 ndarray 之间的转换\n",
    "j = np.asarray(i)\n",
    "print(j)\n",
    "k = np.asmatrix(j)\n",
    "print(k)"
   ]
  },
  {
   "cell_type": "code",
   "execution_count": null,
   "id": "1e5d43cc",
   "metadata": {},
   "outputs": [],
   "source": []
  }
 ],
 "metadata": {
  "kernelspec": {
   "display_name": "Python 3",
   "language": "python",
   "name": "python3"
  },
  "language_info": {
   "codemirror_mode": {
    "name": "ipython",
    "version": 3
   },
   "file_extension": ".py",
   "mimetype": "text/x-python",
   "name": "python",
   "nbconvert_exporter": "python",
   "pygments_lexer": "ipython3",
   "version": "3.8.8"
  }
 },
 "nbformat": 4,
 "nbformat_minor": 5
}
