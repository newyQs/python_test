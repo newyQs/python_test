{
 "cells": [
  {
   "cell_type": "code",
   "execution_count": 7,
   "metadata": {},
   "outputs": [],
   "source": [
    "from time import time\n",
    "\n",
    "\n",
    "def timer(func):\n",
    "    def wraper(*args, **kwargs):\n",
    "        before = time()\n",
    "        rst = func(*args, **kwargs)\n",
    "        after = time()\n",
    "        print(\"该函数耗时：\", after - before)\n",
    "        return rst\n",
    "\n",
    "    return wraper"
   ]
  },
  {
   "cell_type": "code",
   "execution_count": 14,
   "metadata": {},
   "outputs": [
    {
     "name": "stdout",
     "output_type": "stream",
     "text": [
      "该函数耗时： 0.001953125\n"
     ]
    },
    {
     "data": {
      "text/plain": [
       "312512500"
      ]
     },
     "execution_count": 14,
     "metadata": {},
     "output_type": "execute_result"
    }
   ],
   "source": [
    "@timer  # func_one=timer(func_one)\n",
    "def func_one(data):\n",
    "    for i in range(1, data):\n",
    "        data += i\n",
    "    return data\n",
    "\n",
    "func_one(25000)"
   ]
  },
  {
   "cell_type": "code",
   "execution_count": 13,
   "metadata": {},
   "outputs": [
    {
     "name": "stdout",
     "output_type": "stream",
     "text": [
      "该函数耗时： 0.0039060115814208984\n"
     ]
    },
    {
     "data": {
      "text/plain": [
       "312512500"
      ]
     },
     "execution_count": 13,
     "metadata": {},
     "output_type": "execute_result"
    }
   ],
   "source": [
    "def func_two(data):\n",
    "    for i in range(1,data):\n",
    "        data+=i\n",
    "    return data\n",
    "\n",
    "func_two=timer(func_two)\n",
    "func_two(25000)\n"
   ]
  },
  {
   "cell_type": "code",
   "execution_count": null,
   "metadata": {},
   "outputs": [],
   "source": []
  }
 ],
 "metadata": {
  "kernelspec": {
   "display_name": "Python 3",
   "language": "python",
   "name": "python3"
  },
  "language_info": {
   "codemirror_mode": {
    "name": "ipython",
    "version": 3
   },
   "file_extension": ".py",
   "mimetype": "text/x-python",
   "name": "python",
   "nbconvert_exporter": "python",
   "pygments_lexer": "ipython3",
   "version": "3.8.8"
  }
 },
 "nbformat": 4,
 "nbformat_minor": 5
}
